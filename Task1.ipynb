{
  "cells": [
    {
      "cell_type": "markdown",
      "metadata": {
        "id": "view-in-github",
        "colab_type": "text"
      },
      "source": [
        "<a href=\"https://colab.research.google.com/github/cocozhang98/ECE1512_2022W_ProjectRepo_Coco_Zhang/blob/main/Task1.ipynb\" target=\"_parent\"><img src=\"https://colab.research.google.com/assets/colab-badge.svg\" alt=\"Open In Colab\"/></a>"
      ]
    },
    {
      "cell_type": "markdown",
      "metadata": {
        "id": "6WYMfvCNPwpm"
      },
      "source": [
        "# Project B: Knowledge Distillation for Building Lightweight Deep Learning Models in Visual Classification Tasks"
      ]
    },
    {
      "cell_type": "code",
      "execution_count": null,
      "metadata": {
        "id": "vA8ppgB2P0aJ"
      },
      "outputs": [],
      "source": [
        "import tensorflow.compat.v2 as tf\n",
        "import tensorflow_datasets as tfds\n",
        "from typing import Union\n",
        "from keras.layers import Conv2D, MaxPooling2D, Dense, Flatten, Dropout\n",
        "import numpy as np\n",
        "import matplotlib.pyplot as plt\n",
        "\n",
        "tf.enable_v2_behavior()\n",
        "\n",
        "builder = tfds.builder('mnist')\n",
        "BATCH_SIZE = 256\n",
        "NUM_EPOCHS = 12\n",
        "NUM_CLASSES = 10  # 10 total classes."
      ]
    },
    {
      "cell_type": "code",
      "execution_count": null,
      "metadata": {
        "colab": {
          "base_uri": "https://localhost:8080/"
        },
        "id": "ioBZU0BZE-EA",
        "outputId": "8dbde82f-5836-4cdf-a5f2-68bc7179de33"
      },
      "outputs": [
        {
          "output_type": "stream",
          "name": "stdout",
          "text": [
            "Mounted at /content/drive\n"
          ]
        }
      ],
      "source": [
        "from google.colab import drive\n",
        "drive.mount('/content/drive')"
      ]
    },
    {
      "cell_type": "markdown",
      "metadata": {
        "id": "H2EFLQROP2R7"
      },
      "source": [
        "# Data loading"
      ]
    },
    {
      "cell_type": "code",
      "execution_count": null,
      "metadata": {
        "id": "ynByMG_UP4A4",
        "colab": {
          "base_uri": "https://localhost:8080/",
          "height": 188,
          "referenced_widgets": [
            "72db938a53df4087a606a903462ac046",
            "a9be90090f094e2e9557760e24353220",
            "f63428583541477e87efb32d586a3f37",
            "37487870a55749b6a54c69bb0d80f5f3",
            "af9da7d1526445f8b30e4663a4d0c348",
            "b50a9e49918d4ce69c049e6d0d2c03bd",
            "b9e7bd0e8ac34059a60c4e62b227d3de",
            "d7a11f51d6a34771a2efa8b6d73b80f3",
            "6a9d603ec1c04c85955c56438fba438e",
            "a653e80d3a384a54b47e4344dd3d3f1e",
            "e1d612fa2e674ce598a72a571598c7da"
          ]
        },
        "outputId": "92d2dd85-a62e-479e-9af4-2820e45cdbdb"
      },
      "outputs": [
        {
          "output_type": "stream",
          "name": "stdout",
          "text": [
            "\u001b[1mDownloading and preparing dataset mnist/3.0.1 (download: 11.06 MiB, generated: 21.00 MiB, total: 32.06 MiB) to /root/tensorflow_datasets/mnist/3.0.1...\u001b[0m\n"
          ]
        },
        {
          "output_type": "stream",
          "name": "stderr",
          "text": [
            "WARNING:absl:Dataset mnist is hosted on GCS. It will automatically be downloaded to your\n",
            "local data directory. If you'd instead prefer to read directly from our public\n",
            "GCS bucket (recommended if you're running on GCP), you can instead pass\n",
            "`try_gcs=True` to `tfds.load` or set `data_dir=gs://tfds-data/datasets`.\n",
            "\n"
          ]
        },
        {
          "output_type": "display_data",
          "data": {
            "text/plain": [
              "Dl Completed...:   0%|          | 0/4 [00:00<?, ? file/s]"
            ],
            "application/vnd.jupyter.widget-view+json": {
              "version_major": 2,
              "version_minor": 0,
              "model_id": "72db938a53df4087a606a903462ac046"
            }
          },
          "metadata": {}
        },
        {
          "output_type": "stream",
          "name": "stdout",
          "text": [
            "\n",
            "\u001b[1mDataset mnist downloaded and prepared to /root/tensorflow_datasets/mnist/3.0.1. Subsequent calls will reuse this data.\u001b[0m\n"
          ]
        }
      ],
      "source": [
        "\n",
        "# Load train and test splits.\n",
        "def preprocess(x):\n",
        "  image = tf.image.convert_image_dtype(x['image'], tf.float32)\n",
        "  subclass_labels = tf.one_hot(x['label'], builder.info.features['label'].num_classes)\n",
        "  return image, subclass_labels\n",
        "\n",
        "\n",
        "mnist_train = tfds.load('mnist', split='train', shuffle_files=False).cache()\n",
        "mnist_train = mnist_train.map(preprocess)\n",
        "mnist_train = mnist_train.shuffle(builder.info.splits['train'].num_examples)\n",
        "mnist_train = mnist_train.batch(BATCH_SIZE, drop_remainder=True)\n",
        "\n",
        "mnist_test = tfds.load('mnist', split='test').cache()\n",
        "mnist_test = mnist_test.map(preprocess).batch(BATCH_SIZE)"
      ]
    },
    {
      "cell_type": "markdown",
      "metadata": {
        "id": "kAZwfvW5P63q"
      },
      "source": [
        "# Model creation"
      ]
    },
    {
      "cell_type": "code",
      "execution_count": null,
      "metadata": {
        "id": "zINgDkA7P7BP"
      },
      "outputs": [],
      "source": [
        "#@test {\"output\": \"ignore\"}\n",
        "\n",
        "# Build CNN teacher.\n",
        "cnn_model = tf.keras.Sequential()\n",
        "\n",
        "# your code start from here for stpe 2\n",
        "cnn_model.add(Conv2D(filters=32, kernel_size=(3,3), strides=1, input_shape=(28, 28, 1), activation='relu'))\n",
        "cnn_model.add(MaxPooling2D(pool_size=(2,2), strides=1))\n",
        "cnn_model.add(Conv2D(filters=64, kernel_size=(3,3), strides=1))\n",
        "cnn_model.add(MaxPooling2D(pool_size=(2,2), strides=2))\n",
        "cnn_model.add(Flatten())\n",
        "cnn_model.add(Dropout(rate=0.5))\n",
        "cnn_model.add(Dense(128, activation='relu'))\n",
        "cnn_model.add(Dropout(rate=0.5))\n",
        "cnn_model.add(Dense(10))\n",
        "\n",
        "# Build fully connected student.\n",
        "fc_model = tf.keras.Sequential()\n",
        "\n",
        "# your code start from here for step 2\n",
        "fc_model.add(Flatten(input_shape=(28, 28, 1)))\n",
        "fc_model.add(Dense(784, activation='relu'))\n",
        "fc_model.add(Dense(784, activation='relu'))\n",
        "fc_model.add(Dense(10))\n"
      ]
    },
    {
      "cell_type": "markdown",
      "source": [
        "# Loss Functions"
      ],
      "metadata": {
        "id": "FPlR5OJyVpQ6"
      }
    },
    {
      "cell_type": "markdown",
      "metadata": {
        "id": "8JWGucyrQGav"
      },
      "source": [
        "## Teacher loss function"
      ]
    },
    {
      "cell_type": "code",
      "execution_count": null,
      "metadata": {
        "id": "DhzBP6ZLQJ57"
      },
      "outputs": [],
      "source": [
        "@tf.function\n",
        "def compute_teacher_loss(images, labels):\n",
        "  \"\"\"Compute subclass knowledge distillation teacher loss for given images\n",
        "     and labels.\n",
        "\n",
        "  Args:\n",
        "    images: Tensor representing a batch of images.\n",
        "    labels: Tensor representing a batch of labels.\n",
        "\n",
        "  Returns:\n",
        "    Scalar loss Tensor.\n",
        "  \"\"\"\n",
        "  subclass_logits = cnn_model(images, training=True)\n",
        "\n",
        "  # Compute cross-entropy loss for subclasses.\n",
        "\n",
        "  # your code start from here for step 3\n",
        "  cross_entropy_loss_value = tf.reduce_mean(tf.nn.softmax_cross_entropy_with_logits(labels, subclass_logits))\n",
        "\n",
        "  return cross_entropy_loss_value"
      ]
    },
    {
      "cell_type": "markdown",
      "metadata": {
        "id": "JS8xkuH0QbOS"
      },
      "source": [
        "## Student loss function"
      ]
    },
    {
      "cell_type": "code",
      "execution_count": null,
      "metadata": {
        "id": "lDKia4gPQMIr"
      },
      "outputs": [],
      "source": [
        "#@test {\"output\": \"ignore\"}\n",
        "\n",
        "# Hyperparameters for distillation (need to be tuned).\n",
        "ALPHA = 0.5 # task balance between cross-entropy and distillation loss\n",
        "DISTILLATION_TEMPERATURE = 4. #temperature hyperparameter\n",
        "\n",
        "def distillation_loss(teacher_logits: tf.Tensor, student_logits: tf.Tensor,\n",
        "                      temperature: Union[float, tf.Tensor]):\n",
        "  \"\"\"Compute distillation loss.\n",
        "\n",
        "  This function computes cross entropy between softened logits and softened\n",
        "  targets. The resulting loss is scaled by the squared temperature so that\n",
        "  the gradient magnitude remains approximately constant as the temperature is\n",
        "  changed. For reference, see Hinton et al., 2014, \"Distilling the knowledge in\n",
        "  a neural network.\"\n",
        "\n",
        "  Args:\n",
        "    teacher_logits: A Tensor of logits provided by the teacher.\n",
        "    student_logits: A Tensor of logits provided by the student, of the same\n",
        "      shape as `teacher_logits`.\n",
        "    temperature: Temperature to use for distillation.\n",
        "\n",
        "  Returns:\n",
        "    A scalar Tensor containing the distillation loss.\n",
        "  \"\"\"\n",
        " # your code start from here for step 3\n",
        "  soft_targets = tf.nn.softmax(teacher_logits/temperature)\n",
        "\n",
        "  return tf.reduce_mean(\n",
        "      tf.nn.softmax_cross_entropy_with_logits(\n",
        "          soft_targets, student_logits / temperature)) * temperature ** 2\n",
        "\n",
        "def compute_student_loss(images, labels):\n",
        "  \"\"\"Compute subclass knowledge distillation student loss for given images\n",
        "     and labels.\n",
        "\n",
        "  Args:\n",
        "    images: Tensor representing a batch of images.\n",
        "    labels: Tensor representing a batch of labels.\n",
        "\n",
        "  Returns:\n",
        "    Scalar loss Tensor.\n",
        "  \"\"\"\n",
        "  student_subclass_logits = fc_model(images, training=True)\n",
        "\n",
        "  # Compute subclass distillation loss between student subclass logits and\n",
        "  # softened teacher subclass targets probabilities.\n",
        "\n",
        "  # your code start from here for step 3\n",
        "\n",
        "  teacher_subclass_logits = cnn_model(images, training=False)\n",
        "  distillation_loss_value = distillation_loss(teacher_subclass_logits, student_subclass_logits, DISTILLATION_TEMPERATURE)\n",
        "\n",
        "  # Compute cross-entropy loss with hard targets.\n",
        "\n",
        "  # your code start from here for step 3\n",
        "\n",
        "  cross_entropy_loss_value = tf.reduce_mean(tf.nn.softmax_cross_entropy_with_logits(labels, student_subclass_logits))\n",
        "\n",
        "  return ALPHA * distillation_loss_value + (1 - ALPHA) * cross_entropy_loss_value"
      ]
    },
    {
      "cell_type": "markdown",
      "metadata": {
        "id": "RJ1uyvurQ3w4"
      },
      "source": [
        "# Train and evaluation"
      ]
    },
    {
      "cell_type": "code",
      "execution_count": null,
      "metadata": {
        "id": "EtoLbp8uQ4Vl"
      },
      "outputs": [],
      "source": [
        "@tf.function\n",
        "def compute_num_correct(model, images, labels):\n",
        "  \"\"\"Compute number of correctly classified images in a batch.\n",
        "\n",
        "  Args:\n",
        "    model: Instance of tf.keras.Model.\n",
        "    images: Tensor representing a batch of images.\n",
        "    labels: Tensor representing a batch of labels.\n",
        "\n",
        "  Returns:\n",
        "    Number of correctly classified images.\n",
        "  \"\"\"\n",
        "  class_logits = model(images, training=False)\n",
        "  return tf.reduce_sum(\n",
        "      tf.cast(tf.math.equal(tf.argmax(class_logits, -1), tf.argmax(labels, -1)),\n",
        "              tf.float32)), tf.argmax(class_logits, -1), tf.argmax(labels, -1)\n",
        "\n",
        "\n",
        "def train_and_evaluate(model, compute_loss_fn):\n",
        "  \"\"\"Perform training and evaluation for a given model.\n",
        "\n",
        "  Args:\n",
        "    model: Instance of tf.keras.Model.\n",
        "    compute_loss_fn: A function that computes the training loss given the\n",
        "      images, and labels.\n",
        "  \"\"\"\n",
        "\n",
        "  # your code start from here for step 4\n",
        "  optimizer = tf.keras.optimizers.Adam(learning_rate=0.001)\n",
        "\n",
        "  for epoch in range(1, NUM_EPOCHS + 1):\n",
        "    # Run training.\n",
        "    print('Epoch {}: '.format(epoch), end='')\n",
        "    for images, labels in mnist_train:\n",
        "      with tf.GradientTape() as tape:\n",
        "         # your code start from here for step 4\n",
        "\n",
        "        loss_value = compute_loss_fn(images, labels)\n",
        "\n",
        "      grads = tape.gradient(loss_value, model.trainable_variables) #see https://www.tensorflow.org/tutorials/customization/custom_training_walkthrough\n",
        "      optimizer.apply_gradients(zip(grads, model.trainable_variables))\n",
        "  \n",
        "\n",
        "    # Run evaluation.\n",
        "    num_correct = 0\n",
        "    num_total = builder.info.splits['test'].num_examples\n",
        "    for images, labels in mnist_test:\n",
        "      # your code start from here for step 4\n",
        "      num_correct += compute_num_correct(model, images, labels)[0]\n",
        "    print(\"Class_accuracy: \" + '{:.2f}%'.format(\n",
        "        num_correct / num_total * 100))\n",
        "  return (num_correct / num_total * 100).numpy()\n"
      ]
    },
    {
      "cell_type": "markdown",
      "metadata": {
        "id": "NQL1lJdaRPT1"
      },
      "source": [
        "# Training models"
      ]
    },
    {
      "cell_type": "markdown",
      "source": [
        "The teacher model is first trained."
      ],
      "metadata": {
        "id": "SNYXdRGOJ_RN"
      }
    },
    {
      "cell_type": "code",
      "execution_count": null,
      "metadata": {
        "colab": {
          "base_uri": "https://localhost:8080/"
        },
        "id": "-AGHbyABRPz3",
        "outputId": "d4c7a551-d1ac-4b31-9794-381deeb010fa"
      },
      "outputs": [
        {
          "output_type": "stream",
          "name": "stdout",
          "text": [
            "Epoch 1: Class_accuracy: 98.13%\n",
            "Epoch 2: Class_accuracy: 98.66%\n",
            "Epoch 3: Class_accuracy: 98.73%\n",
            "Epoch 4: Class_accuracy: 98.91%\n",
            "Epoch 5: Class_accuracy: 98.90%\n",
            "Epoch 6: Class_accuracy: 98.91%\n",
            "Epoch 7: Class_accuracy: 99.08%\n",
            "Epoch 8: Class_accuracy: 99.13%\n",
            "Epoch 9: Class_accuracy: 99.07%\n",
            "Epoch 10: Class_accuracy: 99.07%\n",
            "Epoch 11: Class_accuracy: 99.07%\n",
            "Epoch 12: Class_accuracy: 99.22%\n"
          ]
        },
        {
          "output_type": "execute_result",
          "data": {
            "text/plain": [
              "<tf.Tensor: shape=(), dtype=float32, numpy=99.22>"
            ]
          },
          "metadata": {},
          "execution_count": 8
        }
      ],
      "source": [
        "# your code start from here for step 5 \n",
        "\n",
        "train_and_evaluate(cnn_model, compute_teacher_loss)\n",
        "\n"
      ]
    },
    {
      "cell_type": "markdown",
      "source": [
        "Now that we have the teacher model trained, we need to train and test the student models.\n",
        "\n",
        "When training, it was found that the final test accuracy would change from model initialization and batch randomization. Thus, for each hyperparameter, the student model is trained 5 times. To plot, the mean and standard deviation for accuracies are used. "
      ],
      "metadata": {
        "id": "mYfcB641RsJo"
      }
    },
    {
      "cell_type": "markdown",
      "source": [
        "## Training the student model for alpha = 0.5, T = 1,2,4,16,32,64"
      ],
      "metadata": {
        "id": "1OvwKmIZLYJ_"
      }
    },
    {
      "cell_type": "code",
      "source": [
        "accuracy = []\n",
        "std = []"
      ],
      "metadata": {
        "id": "fW2FVf9rIKZT"
      },
      "execution_count": null,
      "outputs": []
    },
    {
      "cell_type": "code",
      "execution_count": null,
      "metadata": {
        "id": "1Vxwf6D3A5sj",
        "colab": {
          "base_uri": "https://localhost:8080/"
        },
        "outputId": "0e02ddc9-320f-4378-fe62-1175bf8b751d"
      },
      "outputs": [
        {
          "output_type": "stream",
          "name": "stdout",
          "text": [
            "Epoch 1: Class_accuracy: 96.78%\n",
            "Epoch 2: Class_accuracy: 97.56%\n",
            "Epoch 3: Class_accuracy: 97.71%\n",
            "Epoch 4: Class_accuracy: 97.94%\n",
            "Epoch 5: Class_accuracy: 98.18%\n",
            "Epoch 6: Class_accuracy: 98.33%\n",
            "Epoch 7: Class_accuracy: 98.31%\n",
            "Epoch 8: Class_accuracy: 98.20%\n",
            "Epoch 9: Class_accuracy: 98.31%\n",
            "Epoch 10: Class_accuracy: 98.44%\n",
            "Epoch 11: Class_accuracy: 98.15%\n",
            "Epoch 12: Class_accuracy: 98.26%\n",
            "Epoch 1: Class_accuracy: 96.73%\n",
            "Epoch 2: Class_accuracy: 97.56%\n",
            "Epoch 3: Class_accuracy: 97.76%\n",
            "Epoch 4: Class_accuracy: 97.53%\n",
            "Epoch 5: Class_accuracy: 98.17%\n",
            "Epoch 6: Class_accuracy: 98.19%\n",
            "Epoch 7: Class_accuracy: 98.17%\n",
            "Epoch 8: Class_accuracy: 98.30%\n",
            "Epoch 9: Class_accuracy: 98.34%\n",
            "Epoch 10: Class_accuracy: 98.20%\n",
            "Epoch 11: Class_accuracy: 98.16%\n",
            "Epoch 12: Class_accuracy: 98.26%\n",
            "Epoch 1: Class_accuracy: 96.75%\n",
            "Epoch 2: Class_accuracy: 97.73%\n",
            "Epoch 3: Class_accuracy: 97.86%\n",
            "Epoch 4: Class_accuracy: 97.99%\n",
            "Epoch 5: Class_accuracy: 98.27%\n",
            "Epoch 6: Class_accuracy: 98.04%\n",
            "Epoch 7: Class_accuracy: 98.23%\n",
            "Epoch 8: Class_accuracy: 98.37%\n",
            "Epoch 9: Class_accuracy: 98.21%\n",
            "Epoch 10: Class_accuracy: 98.24%\n",
            "Epoch 11: Class_accuracy: 98.37%\n",
            "Epoch 12: Class_accuracy: 98.43%\n",
            "Epoch 1: Class_accuracy: 96.72%\n",
            "Epoch 2: Class_accuracy: 97.50%\n",
            "Epoch 3: Class_accuracy: 97.72%\n",
            "Epoch 4: Class_accuracy: 98.10%\n",
            "Epoch 5: Class_accuracy: 97.91%\n",
            "Epoch 6: Class_accuracy: 98.14%\n",
            "Epoch 7: Class_accuracy: 98.20%\n",
            "Epoch 8: Class_accuracy: 97.96%\n",
            "Epoch 9: Class_accuracy: 98.36%\n",
            "Epoch 10: Class_accuracy: 98.18%\n",
            "Epoch 11: Class_accuracy: 98.25%\n",
            "Epoch 12: Class_accuracy: 98.38%\n",
            "Epoch 1: Class_accuracy: 97.04%\n",
            "Epoch 2: Class_accuracy: 97.53%\n",
            "Epoch 3: Class_accuracy: 98.00%\n",
            "Epoch 4: Class_accuracy: 97.99%\n",
            "Epoch 5: Class_accuracy: 97.97%\n",
            "Epoch 6: Class_accuracy: 98.05%\n",
            "Epoch 7: Class_accuracy: 98.12%\n",
            "Epoch 8: Class_accuracy: 98.10%\n",
            "Epoch 9: Class_accuracy: 98.22%\n",
            "Epoch 10: Class_accuracy: 98.02%\n",
            "Epoch 11: Class_accuracy: 98.07%\n",
            "Epoch 12: Class_accuracy: 98.31%\n"
          ]
        }
      ],
      "source": [
        "ALPHA = 0.5\n",
        "DISTILLATION_TEMPERATURE = 1.\n",
        "\n",
        "accuracy_1 = []\n",
        "\n",
        "for i in range(5):\n",
        "  fc_model = tf.keras.Sequential()\n",
        "\n",
        "  # your code start from here for step 2\n",
        "  fc_model.add(Flatten(input_shape=(28, 28, 1)))\n",
        "  fc_model.add(Dense(784, activation='relu'))\n",
        "  fc_model.add(Dense(784, activation='relu'))\n",
        "  fc_model.add(Dense(10))\n",
        "  accuracy_1.append(train_and_evaluate(fc_model, compute_student_loss))\n",
        "\n",
        "accuracy.append(np.mean(accuracy_1))\n",
        "std.append(np.std(accuracy_1))"
      ]
    },
    {
      "cell_type": "code",
      "source": [
        "ALPHA = 0.5\n",
        "DISTILLATION_TEMPERATURE = 2.\n",
        "\n",
        "accuracy_2 = []\n",
        "\n",
        "for i in range(5):\n",
        "  fc_model = tf.keras.Sequential()\n",
        "\n",
        "  fc_model.add(Flatten(input_shape=(28, 28, 1)))\n",
        "  fc_model.add(Dense(784, activation='relu'))\n",
        "  fc_model.add(Dense(784, activation='relu'))\n",
        "  fc_model.add(Dense(10))\n",
        "  accuracy_2.append(train_and_evaluate(fc_model, compute_student_loss))\n",
        "\n",
        "accuracy.append(np.mean(accuracy_2))\n",
        "std.append(np.std(accuracy_2))"
      ],
      "metadata": {
        "colab": {
          "base_uri": "https://localhost:8080/"
        },
        "id": "1QR43J3gHbAR",
        "outputId": "ac731921-ff61-49fe-a3b5-aa73aa633d61"
      },
      "execution_count": null,
      "outputs": [
        {
          "output_type": "stream",
          "name": "stdout",
          "text": [
            "Epoch 1: Class_accuracy: 96.29%\n",
            "Epoch 2: Class_accuracy: 97.69%\n",
            "Epoch 3: Class_accuracy: 98.05%\n",
            "Epoch 4: Class_accuracy: 98.37%\n",
            "Epoch 5: Class_accuracy: 98.31%\n",
            "Epoch 6: Class_accuracy: 98.54%\n",
            "Epoch 7: Class_accuracy: 98.47%\n",
            "Epoch 8: Class_accuracy: 98.64%\n",
            "Epoch 9: Class_accuracy: 98.54%\n",
            "Epoch 10: Class_accuracy: 98.46%\n",
            "Epoch 11: Class_accuracy: 98.56%\n",
            "Epoch 12: Class_accuracy: 98.62%\n",
            "Epoch 1: Class_accuracy: 96.40%\n",
            "Epoch 2: Class_accuracy: 97.41%\n",
            "Epoch 3: Class_accuracy: 97.99%\n",
            "Epoch 4: Class_accuracy: 98.23%\n",
            "Epoch 5: Class_accuracy: 98.26%\n",
            "Epoch 6: Class_accuracy: 98.51%\n",
            "Epoch 7: Class_accuracy: 98.64%\n",
            "Epoch 8: Class_accuracy: 98.61%\n",
            "Epoch 9: Class_accuracy: 98.39%\n",
            "Epoch 10: Class_accuracy: 98.57%\n",
            "Epoch 11: Class_accuracy: 98.77%\n",
            "Epoch 12: Class_accuracy: 98.53%\n",
            "Epoch 1: Class_accuracy: 96.67%\n",
            "Epoch 2: Class_accuracy: 97.76%\n",
            "Epoch 3: Class_accuracy: 98.21%\n",
            "Epoch 4: Class_accuracy: 98.31%\n",
            "Epoch 5: Class_accuracy: 98.33%\n",
            "Epoch 6: Class_accuracy: 98.55%\n",
            "Epoch 7: Class_accuracy: 98.45%\n",
            "Epoch 8: Class_accuracy: 98.45%\n",
            "Epoch 9: Class_accuracy: 98.70%\n",
            "Epoch 10: Class_accuracy: 98.36%\n",
            "Epoch 11: Class_accuracy: 98.56%\n",
            "Epoch 12: Class_accuracy: 98.59%\n",
            "Epoch 1: Class_accuracy: 96.46%\n",
            "Epoch 2: Class_accuracy: 97.82%\n",
            "Epoch 3: Class_accuracy: 98.15%\n",
            "Epoch 4: Class_accuracy: 98.35%\n",
            "Epoch 5: Class_accuracy: 98.53%\n",
            "Epoch 6: Class_accuracy: 98.47%\n",
            "Epoch 7: Class_accuracy: 98.51%\n",
            "Epoch 8: Class_accuracy: 98.70%\n",
            "Epoch 9: Class_accuracy: 98.47%\n",
            "Epoch 10: Class_accuracy: 98.55%\n",
            "Epoch 11: Class_accuracy: 98.63%\n",
            "Epoch 12: Class_accuracy: 98.56%\n",
            "Epoch 1: Class_accuracy: 96.58%\n",
            "Epoch 2: Class_accuracy: 97.82%\n",
            "Epoch 3: Class_accuracy: 97.96%\n",
            "Epoch 4: Class_accuracy: 98.36%\n",
            "Epoch 5: Class_accuracy: 98.44%\n",
            "Epoch 6: Class_accuracy: 98.49%\n",
            "Epoch 7: Class_accuracy: 98.66%\n",
            "Epoch 8: Class_accuracy: 98.67%\n",
            "Epoch 9: Class_accuracy: 98.55%\n",
            "Epoch 10: Class_accuracy: 98.57%\n",
            "Epoch 11: Class_accuracy: 98.50%\n",
            "Epoch 12: Class_accuracy: 98.59%\n"
          ]
        }
      ]
    },
    {
      "cell_type": "code",
      "execution_count": null,
      "metadata": {
        "id": "oc_eMdLrE7--",
        "colab": {
          "base_uri": "https://localhost:8080/"
        },
        "outputId": "22984375-1067-448f-bba5-39f1d2360442"
      },
      "outputs": [
        {
          "output_type": "stream",
          "name": "stdout",
          "text": [
            "Epoch 1: Class_accuracy: 96.72%\n",
            "Epoch 2: Class_accuracy: 97.95%\n",
            "Epoch 3: Class_accuracy: 98.21%\n",
            "Epoch 4: Class_accuracy: 98.37%\n",
            "Epoch 5: Class_accuracy: 98.40%\n",
            "Epoch 6: Class_accuracy: 98.60%\n",
            "Epoch 7: Class_accuracy: 98.73%\n",
            "Epoch 8: Class_accuracy: 98.69%\n",
            "Epoch 9: Class_accuracy: 98.69%\n",
            "Epoch 10: Class_accuracy: 98.71%\n",
            "Epoch 11: Class_accuracy: 98.71%\n",
            "Epoch 12: Class_accuracy: 98.81%\n",
            "Epoch 1: Class_accuracy: 96.54%\n",
            "Epoch 2: Class_accuracy: 97.79%\n",
            "Epoch 3: Class_accuracy: 98.38%\n",
            "Epoch 4: Class_accuracy: 98.40%\n",
            "Epoch 5: Class_accuracy: 98.61%\n",
            "Epoch 6: Class_accuracy: 98.66%\n",
            "Epoch 7: Class_accuracy: 98.73%\n",
            "Epoch 8: Class_accuracy: 98.74%\n",
            "Epoch 9: Class_accuracy: 98.78%\n",
            "Epoch 10: Class_accuracy: 98.85%\n",
            "Epoch 11: Class_accuracy: 98.79%\n",
            "Epoch 12: Class_accuracy: 98.85%\n",
            "Epoch 1: Class_accuracy: 96.78%\n",
            "Epoch 2: Class_accuracy: 97.96%\n",
            "Epoch 3: Class_accuracy: 98.35%\n",
            "Epoch 4: Class_accuracy: 98.38%\n",
            "Epoch 5: Class_accuracy: 98.56%\n",
            "Epoch 6: Class_accuracy: 98.75%\n",
            "Epoch 7: Class_accuracy: 98.73%\n",
            "Epoch 8: Class_accuracy: 98.87%\n",
            "Epoch 9: Class_accuracy: 98.79%\n",
            "Epoch 10: Class_accuracy: 98.81%\n",
            "Epoch 11: Class_accuracy: 98.72%\n",
            "Epoch 12: Class_accuracy: 98.84%\n",
            "Epoch 1: Class_accuracy: 96.94%\n",
            "Epoch 2: Class_accuracy: 97.92%\n",
            "Epoch 3: Class_accuracy: 98.31%\n",
            "Epoch 4: Class_accuracy: 98.45%\n",
            "Epoch 5: Class_accuracy: 98.58%\n",
            "Epoch 6: Class_accuracy: 98.65%\n",
            "Epoch 7: Class_accuracy: 98.67%\n",
            "Epoch 8: Class_accuracy: 98.75%\n",
            "Epoch 9: Class_accuracy: 98.81%\n",
            "Epoch 10: Class_accuracy: 98.79%\n",
            "Epoch 11: Class_accuracy: 98.78%\n",
            "Epoch 12: Class_accuracy: 98.77%\n",
            "Epoch 1: Class_accuracy: 96.83%\n",
            "Epoch 2: Class_accuracy: 97.78%\n",
            "Epoch 3: Class_accuracy: 98.29%\n",
            "Epoch 4: Class_accuracy: 98.44%\n",
            "Epoch 5: Class_accuracy: 98.66%\n",
            "Epoch 6: Class_accuracy: 98.71%\n",
            "Epoch 7: Class_accuracy: 98.69%\n",
            "Epoch 8: Class_accuracy: 98.71%\n",
            "Epoch 9: Class_accuracy: 98.80%\n",
            "Epoch 10: Class_accuracy: 98.80%\n",
            "Epoch 11: Class_accuracy: 98.89%\n",
            "Epoch 12: Class_accuracy: 98.79%\n"
          ]
        }
      ],
      "source": [
        "ALPHA = 0.5\n",
        "DISTILLATION_TEMPERATURE = 4.\n",
        "\n",
        "accuracy_4 = []\n",
        "\n",
        "for i in range(5):\n",
        "  fc_model = tf.keras.Sequential()\n",
        "\n",
        "  # your code start from here for step 2\n",
        "  fc_model.add(Flatten(input_shape=(28, 28, 1)))\n",
        "  fc_model.add(Dense(784, activation='relu'))\n",
        "  fc_model.add(Dense(784, activation='relu'))\n",
        "  fc_model.add(Dense(10))\n",
        "  accuracy_4.append(train_and_evaluate(fc_model, compute_student_loss))\n",
        "\n",
        "accuracy.append(np.mean(accuracy_4))\n",
        "std.append(np.std(accuracy_4))"
      ]
    },
    {
      "cell_type": "code",
      "source": [
        "ALPHA = 0.5\n",
        "DISTILLATION_TEMPERATURE = 16.\n",
        "\n",
        "accuracy_16 = []\n",
        "\n",
        "for i in range(5):\n",
        "  fc_model = tf.keras.Sequential()\n",
        "\n",
        "  # your code start from here for step 2\n",
        "  fc_model.add(Flatten(input_shape=(28, 28, 1)))\n",
        "  fc_model.add(Dense(784, activation='relu'))\n",
        "  fc_model.add(Dense(784, activation='relu'))\n",
        "  fc_model.add(Dense(10))\n",
        "  accuracy_16.append(train_and_evaluate(fc_model, compute_student_loss))\n",
        "\n",
        "accuracy.append(np.mean(accuracy_16))\n",
        "std.append(np.std(accuracy_16))"
      ],
      "metadata": {
        "colab": {
          "base_uri": "https://localhost:8080/"
        },
        "id": "NORWhkZyHlBN",
        "outputId": "b4e6d3ce-fae4-4205-d21e-f128c3e2375e"
      },
      "execution_count": null,
      "outputs": [
        {
          "output_type": "stream",
          "name": "stdout",
          "text": [
            "Epoch 1: Class_accuracy: 96.74%\n",
            "Epoch 2: Class_accuracy: 97.76%\n",
            "Epoch 3: Class_accuracy: 98.28%\n",
            "Epoch 4: Class_accuracy: 98.36%\n",
            "Epoch 5: Class_accuracy: 98.62%\n",
            "Epoch 6: Class_accuracy: 98.60%\n",
            "Epoch 7: Class_accuracy: 98.66%\n",
            "Epoch 8: Class_accuracy: 98.71%\n",
            "Epoch 9: Class_accuracy: 98.71%\n",
            "Epoch 10: Class_accuracy: 98.69%\n",
            "Epoch 11: Class_accuracy: 98.74%\n",
            "Epoch 12: Class_accuracy: 98.72%\n",
            "Epoch 1: Class_accuracy: 96.52%\n",
            "Epoch 2: Class_accuracy: 97.70%\n",
            "Epoch 3: Class_accuracy: 98.14%\n",
            "Epoch 4: Class_accuracy: 98.39%\n",
            "Epoch 5: Class_accuracy: 98.57%\n",
            "Epoch 6: Class_accuracy: 98.57%\n",
            "Epoch 7: Class_accuracy: 98.62%\n",
            "Epoch 8: Class_accuracy: 98.75%\n",
            "Epoch 9: Class_accuracy: 98.77%\n",
            "Epoch 10: Class_accuracy: 98.82%\n",
            "Epoch 11: Class_accuracy: 98.72%\n",
            "Epoch 12: Class_accuracy: 98.89%\n",
            "Epoch 1: Class_accuracy: 96.65%\n",
            "Epoch 2: Class_accuracy: 97.84%\n",
            "Epoch 3: Class_accuracy: 98.29%\n",
            "Epoch 4: Class_accuracy: 98.47%\n",
            "Epoch 5: Class_accuracy: 98.57%\n",
            "Epoch 6: Class_accuracy: 98.57%\n",
            "Epoch 7: Class_accuracy: 98.61%\n",
            "Epoch 8: Class_accuracy: 98.69%\n",
            "Epoch 9: Class_accuracy: 98.71%\n",
            "Epoch 10: Class_accuracy: 98.70%\n",
            "Epoch 11: Class_accuracy: 98.72%\n",
            "Epoch 12: Class_accuracy: 98.79%\n",
            "Epoch 1: Class_accuracy: 96.60%\n",
            "Epoch 2: Class_accuracy: 97.98%\n",
            "Epoch 3: Class_accuracy: 98.23%\n",
            "Epoch 4: Class_accuracy: 98.56%\n",
            "Epoch 5: Class_accuracy: 98.58%\n",
            "Epoch 6: Class_accuracy: 98.70%\n",
            "Epoch 7: Class_accuracy: 98.69%\n",
            "Epoch 8: Class_accuracy: 98.80%\n",
            "Epoch 9: Class_accuracy: 98.78%\n",
            "Epoch 10: Class_accuracy: 98.75%\n",
            "Epoch 11: Class_accuracy: 98.81%\n",
            "Epoch 12: Class_accuracy: 98.85%\n",
            "Epoch 1: Class_accuracy: 96.72%\n",
            "Epoch 2: Class_accuracy: 97.80%\n",
            "Epoch 3: Class_accuracy: 98.17%\n",
            "Epoch 4: Class_accuracy: 98.34%\n",
            "Epoch 5: Class_accuracy: 98.48%\n",
            "Epoch 6: Class_accuracy: 98.54%\n",
            "Epoch 7: Class_accuracy: 98.62%\n",
            "Epoch 8: Class_accuracy: 98.78%\n",
            "Epoch 9: Class_accuracy: 98.76%\n",
            "Epoch 10: Class_accuracy: 98.80%\n",
            "Epoch 11: Class_accuracy: 98.74%\n",
            "Epoch 12: Class_accuracy: 98.82%\n"
          ]
        }
      ]
    },
    {
      "cell_type": "code",
      "source": [
        "ALPHA = 0.5\n",
        "DISTILLATION_TEMPERATURE = 32.\n",
        "accuracy_32 = []\n",
        "\n",
        "for i in range(5):\n",
        "  fc_model = tf.keras.Sequential()\n",
        "\n",
        "  # your code start from here for step 2\n",
        "  fc_model.add(Flatten(input_shape=(28, 28, 1)))\n",
        "  fc_model.add(Dense(784, activation='relu'))\n",
        "  fc_model.add(Dense(784, activation='relu'))\n",
        "  fc_model.add(Dense(10))\n",
        "  accuracy_32.append(train_and_evaluate(fc_model, compute_student_loss))\n",
        "\n",
        "accuracy.append(np.mean(accuracy_32))\n",
        "std.append(np.std(accuracy_32))"
      ],
      "metadata": {
        "colab": {
          "base_uri": "https://localhost:8080/"
        },
        "id": "yi0r-7hsHmVD",
        "outputId": "a3930520-0d91-46fe-8a2f-1f0c45879d86"
      },
      "execution_count": null,
      "outputs": [
        {
          "output_type": "stream",
          "name": "stdout",
          "text": [
            "Epoch 1: Class_accuracy: 96.74%\n",
            "Epoch 2: Class_accuracy: 97.79%\n",
            "Epoch 3: Class_accuracy: 98.28%\n",
            "Epoch 4: Class_accuracy: 98.40%\n",
            "Epoch 5: Class_accuracy: 98.59%\n",
            "Epoch 6: Class_accuracy: 98.61%\n",
            "Epoch 7: Class_accuracy: 98.70%\n",
            "Epoch 8: Class_accuracy: 98.64%\n",
            "Epoch 9: Class_accuracy: 98.79%\n",
            "Epoch 10: Class_accuracy: 98.79%\n",
            "Epoch 11: Class_accuracy: 98.85%\n",
            "Epoch 12: Class_accuracy: 98.91%\n",
            "Epoch 1: Class_accuracy: 96.86%\n",
            "Epoch 2: Class_accuracy: 97.92%\n",
            "Epoch 3: Class_accuracy: 98.30%\n",
            "Epoch 4: Class_accuracy: 98.51%\n",
            "Epoch 5: Class_accuracy: 98.54%\n",
            "Epoch 6: Class_accuracy: 98.70%\n",
            "Epoch 7: Class_accuracy: 98.66%\n",
            "Epoch 8: Class_accuracy: 98.66%\n",
            "Epoch 9: Class_accuracy: 98.70%\n",
            "Epoch 10: Class_accuracy: 98.74%\n",
            "Epoch 11: Class_accuracy: 98.78%\n",
            "Epoch 12: Class_accuracy: 98.80%\n",
            "Epoch 1: Class_accuracy: 96.81%\n",
            "Epoch 2: Class_accuracy: 97.69%\n",
            "Epoch 3: Class_accuracy: 98.22%\n",
            "Epoch 4: Class_accuracy: 98.34%\n",
            "Epoch 5: Class_accuracy: 98.48%\n",
            "Epoch 6: Class_accuracy: 98.59%\n",
            "Epoch 7: Class_accuracy: 98.62%\n",
            "Epoch 8: Class_accuracy: 98.65%\n",
            "Epoch 9: Class_accuracy: 98.60%\n",
            "Epoch 10: Class_accuracy: 98.75%\n",
            "Epoch 11: Class_accuracy: 98.77%\n",
            "Epoch 12: Class_accuracy: 98.84%\n",
            "Epoch 1: Class_accuracy: 96.83%\n",
            "Epoch 2: Class_accuracy: 97.87%\n",
            "Epoch 3: Class_accuracy: 98.30%\n",
            "Epoch 4: Class_accuracy: 98.43%\n",
            "Epoch 5: Class_accuracy: 98.50%\n",
            "Epoch 6: Class_accuracy: 98.63%\n",
            "Epoch 7: Class_accuracy: 98.67%\n",
            "Epoch 8: Class_accuracy: 98.67%\n",
            "Epoch 9: Class_accuracy: 98.81%\n",
            "Epoch 10: Class_accuracy: 98.81%\n",
            "Epoch 11: Class_accuracy: 98.90%\n",
            "Epoch 12: Class_accuracy: 98.85%\n",
            "Epoch 1: Class_accuracy: 96.78%\n",
            "Epoch 2: Class_accuracy: 97.88%\n",
            "Epoch 3: Class_accuracy: 98.35%\n",
            "Epoch 4: Class_accuracy: 98.47%\n",
            "Epoch 5: Class_accuracy: 98.59%\n",
            "Epoch 6: Class_accuracy: 98.71%\n",
            "Epoch 7: Class_accuracy: 98.75%\n",
            "Epoch 8: Class_accuracy: 98.75%\n",
            "Epoch 9: Class_accuracy: 98.80%\n",
            "Epoch 10: Class_accuracy: 98.80%\n",
            "Epoch 11: Class_accuracy: 98.78%\n",
            "Epoch 12: Class_accuracy: 98.76%\n"
          ]
        }
      ]
    },
    {
      "cell_type": "code",
      "source": [
        "ALPHA = 0.5\n",
        "DISTILLATION_TEMPERATURE = 64.\n",
        "accuracy_64 = []\n",
        "\n",
        "for i in range(5):\n",
        "  fc_model = tf.keras.Sequential()\n",
        "\n",
        "  # your code start from here for step 2\n",
        "  fc_model.add(Flatten(input_shape=(28, 28, 1)))\n",
        "  fc_model.add(Dense(784, activation='relu'))\n",
        "  fc_model.add(Dense(784, activation='relu'))\n",
        "  fc_model.add(Dense(10))\n",
        "  accuracy_64.append(train_and_evaluate(fc_model, compute_student_loss))\n",
        "\n",
        "accuracy.append(np.mean(accuracy_64))\n",
        "std.append(np.std(accuracy_64))"
      ],
      "metadata": {
        "colab": {
          "base_uri": "https://localhost:8080/"
        },
        "id": "hemybd65Hnnz",
        "outputId": "fc5b3634-d3e5-4d74-c32a-6305562e2123"
      },
      "execution_count": null,
      "outputs": [
        {
          "output_type": "stream",
          "name": "stdout",
          "text": [
            "Epoch 1: Class_accuracy: 96.89%\n",
            "Epoch 2: Class_accuracy: 97.99%\n",
            "Epoch 3: Class_accuracy: 98.33%\n",
            "Epoch 4: Class_accuracy: 98.46%\n",
            "Epoch 5: Class_accuracy: 98.57%\n",
            "Epoch 6: Class_accuracy: 98.60%\n",
            "Epoch 7: Class_accuracy: 98.75%\n",
            "Epoch 8: Class_accuracy: 98.71%\n",
            "Epoch 9: Class_accuracy: 98.82%\n",
            "Epoch 10: Class_accuracy: 98.77%\n",
            "Epoch 11: Class_accuracy: 98.79%\n",
            "Epoch 12: Class_accuracy: 98.75%\n",
            "Epoch 1: Class_accuracy: 96.81%\n",
            "Epoch 2: Class_accuracy: 97.97%\n",
            "Epoch 3: Class_accuracy: 98.24%\n",
            "Epoch 4: Class_accuracy: 98.47%\n",
            "Epoch 5: Class_accuracy: 98.66%\n",
            "Epoch 6: Class_accuracy: 98.68%\n",
            "Epoch 7: Class_accuracy: 98.70%\n",
            "Epoch 8: Class_accuracy: 98.76%\n",
            "Epoch 9: Class_accuracy: 98.80%\n",
            "Epoch 10: Class_accuracy: 98.83%\n",
            "Epoch 11: Class_accuracy: 98.81%\n",
            "Epoch 12: Class_accuracy: 98.80%\n",
            "Epoch 1: Class_accuracy: 96.78%\n",
            "Epoch 2: Class_accuracy: 97.94%\n",
            "Epoch 3: Class_accuracy: 98.19%\n",
            "Epoch 4: Class_accuracy: 98.43%\n",
            "Epoch 5: Class_accuracy: 98.52%\n",
            "Epoch 6: Class_accuracy: 98.60%\n",
            "Epoch 7: Class_accuracy: 98.67%\n",
            "Epoch 8: Class_accuracy: 98.76%\n",
            "Epoch 9: Class_accuracy: 98.76%\n",
            "Epoch 10: Class_accuracy: 98.74%\n",
            "Epoch 11: Class_accuracy: 98.74%\n",
            "Epoch 12: Class_accuracy: 98.74%\n",
            "Epoch 1: Class_accuracy: 96.59%\n",
            "Epoch 2: Class_accuracy: 97.80%\n",
            "Epoch 3: Class_accuracy: 98.17%\n",
            "Epoch 4: Class_accuracy: 98.42%\n",
            "Epoch 5: Class_accuracy: 98.48%\n",
            "Epoch 6: Class_accuracy: 98.55%\n",
            "Epoch 7: Class_accuracy: 98.65%\n",
            "Epoch 8: Class_accuracy: 98.70%\n",
            "Epoch 9: Class_accuracy: 98.73%\n",
            "Epoch 10: Class_accuracy: 98.77%\n",
            "Epoch 11: Class_accuracy: 98.66%\n",
            "Epoch 12: Class_accuracy: 98.71%\n",
            "Epoch 1: Class_accuracy: 96.65%\n",
            "Epoch 2: Class_accuracy: 97.91%\n",
            "Epoch 3: Class_accuracy: 98.16%\n",
            "Epoch 4: Class_accuracy: 98.43%\n",
            "Epoch 5: Class_accuracy: 98.49%\n",
            "Epoch 6: Class_accuracy: 98.50%\n",
            "Epoch 7: Class_accuracy: 98.58%\n",
            "Epoch 8: Class_accuracy: 98.66%\n",
            "Epoch 9: Class_accuracy: 98.74%\n",
            "Epoch 10: Class_accuracy: 98.76%\n",
            "Epoch 11: Class_accuracy: 98.74%\n",
            "Epoch 12: Class_accuracy: 98.77%\n"
          ]
        }
      ]
    },
    {
      "cell_type": "code",
      "source": [
        "accuracy"
      ],
      "metadata": {
        "colab": {
          "base_uri": "https://localhost:8080/"
        },
        "id": "D5EICb0CS4p6",
        "outputId": "27e3918b-fb03-4b43-c0ce-f708aff9305d"
      },
      "execution_count": null,
      "outputs": [
        {
          "output_type": "execute_result",
          "data": {
            "text/plain": [
              "[98.327995, 98.577995, 98.812, 98.814, 98.832, 98.75399]"
            ]
          },
          "metadata": {},
          "execution_count": 37
        }
      ]
    },
    {
      "cell_type": "code",
      "source": [
        "std"
      ],
      "metadata": {
        "colab": {
          "base_uri": "https://localhost:8080/"
        },
        "id": "SBvWee6wS8bv",
        "outputId": "1ca12004-c6b7-4b4b-88fe-876aa001ccc6"
      },
      "execution_count": null,
      "outputs": [
        {
          "output_type": "execute_result",
          "data": {
            "text/plain": [
              "[0.067351855, 0.030592872, 0.029933026, 0.057479598, 0.05035723, 0.0300653]"
            ]
          },
          "metadata": {},
          "execution_count": 38
        }
      ]
    },
    {
      "cell_type": "markdown",
      "source": [
        "## Tuning Hyperparameters for best performance student model"
      ],
      "metadata": {
        "id": "I0l5C3l6Lfqt"
      }
    },
    {
      "cell_type": "code",
      "source": [
        "ALPHA = 0.75\n",
        "DISTILLATION_TEMPERATURE = 16.\n",
        "accuracy_alpha_75 = []\n",
        "\n",
        "for i in range(5):\n",
        "  print(\"Training: %d/5\" % (i))\n",
        "  fc_model = tf.keras.Sequential()\n",
        "\n",
        "  fc_model.add(Flatten(input_shape=(28, 28, 1)))\n",
        "  fc_model.add(Dense(784, activation='relu'))\n",
        "  fc_model.add(Dense(784, activation='relu'))\n",
        "  fc_model.add(Dense(10))\n",
        "  accuracy_alpha_75.append(train_and_evaluate(fc_model, compute_student_loss))\n",
        "print(\"Average Final Test Accuracy: %f\" % (np.mean(accuracy_alpha_75)))\n",
        "print(\"\")\n"
      ],
      "metadata": {
        "colab": {
          "base_uri": "https://localhost:8080/"
        },
        "id": "6VWxU1rjTXy8",
        "outputId": "17d3c732-d8de-4f1e-957e-90ff7dda26d8"
      },
      "execution_count": null,
      "outputs": [
        {
          "output_type": "stream",
          "name": "stdout",
          "text": [
            "Training: 0/5\n",
            "Epoch 1: Class_accuracy: 96.55%\n",
            "Epoch 2: Class_accuracy: 97.75%\n",
            "Epoch 3: Class_accuracy: 98.33%\n",
            "Epoch 4: Class_accuracy: 98.38%\n",
            "Epoch 5: Class_accuracy: 98.60%\n",
            "Epoch 6: Class_accuracy: 98.64%\n",
            "Epoch 7: Class_accuracy: 98.63%\n",
            "Epoch 8: Class_accuracy: 98.75%\n",
            "Epoch 9: Class_accuracy: 98.76%\n",
            "Epoch 10: Class_accuracy: 98.73%\n",
            "Epoch 11: Class_accuracy: 98.73%\n",
            "Epoch 12: Class_accuracy: 98.85%\n",
            "Training: 1/5\n",
            "Epoch 1: Class_accuracy: 96.58%\n",
            "Epoch 2: Class_accuracy: 97.85%\n",
            "Epoch 3: Class_accuracy: 98.16%\n",
            "Epoch 4: Class_accuracy: 98.44%\n",
            "Epoch 5: Class_accuracy: 98.44%\n",
            "Epoch 6: Class_accuracy: 98.59%\n",
            "Epoch 7: Class_accuracy: 98.68%\n",
            "Epoch 8: Class_accuracy: 98.73%\n",
            "Epoch 9: Class_accuracy: 98.74%\n",
            "Epoch 10: Class_accuracy: 98.77%\n",
            "Epoch 11: Class_accuracy: 98.86%\n",
            "Epoch 12: Class_accuracy: 98.77%\n",
            "Training: 2/5\n",
            "Epoch 1: Class_accuracy: 96.56%\n",
            "Epoch 2: Class_accuracy: 97.77%\n",
            "Epoch 3: Class_accuracy: 98.13%\n",
            "Epoch 4: Class_accuracy: 98.33%\n",
            "Epoch 5: Class_accuracy: 98.58%\n",
            "Epoch 6: Class_accuracy: 98.54%\n",
            "Epoch 7: Class_accuracy: 98.62%\n",
            "Epoch 8: Class_accuracy: 98.55%\n",
            "Epoch 9: Class_accuracy: 98.67%\n",
            "Epoch 10: Class_accuracy: 98.70%\n",
            "Epoch 11: Class_accuracy: 98.66%\n",
            "Epoch 12: Class_accuracy: 98.75%\n",
            "Training: 3/5\n",
            "Epoch 1: Class_accuracy: 96.66%\n",
            "Epoch 2: Class_accuracy: 97.85%\n",
            "Epoch 3: Class_accuracy: 98.22%\n",
            "Epoch 4: Class_accuracy: 98.38%\n",
            "Epoch 5: Class_accuracy: 98.54%\n",
            "Epoch 6: Class_accuracy: 98.58%\n",
            "Epoch 7: Class_accuracy: 98.50%\n",
            "Epoch 8: Class_accuracy: 98.75%\n",
            "Epoch 9: Class_accuracy: 98.82%\n",
            "Epoch 10: Class_accuracy: 98.75%\n",
            "Epoch 11: Class_accuracy: 98.77%\n",
            "Epoch 12: Class_accuracy: 98.70%\n",
            "Training: 4/5\n",
            "Epoch 1: Class_accuracy: 96.79%\n",
            "Epoch 2: Class_accuracy: 97.74%\n",
            "Epoch 3: Class_accuracy: 97.95%\n",
            "Epoch 4: Class_accuracy: 98.26%\n",
            "Epoch 5: Class_accuracy: 98.42%\n",
            "Epoch 6: Class_accuracy: 98.52%\n",
            "Epoch 7: Class_accuracy: 98.47%\n",
            "Epoch 8: Class_accuracy: 98.57%\n",
            "Epoch 9: Class_accuracy: 98.63%\n",
            "Epoch 10: Class_accuracy: 98.71%\n",
            "Epoch 11: Class_accuracy: 98.76%\n",
            "Epoch 12: Class_accuracy: 98.70%\n",
            "Average Final Test Accuracy: 98.754005\n",
            "\n"
          ]
        }
      ]
    },
    {
      "cell_type": "code",
      "source": [
        "ALPHA = 0.25\n",
        "DISTILLATION_TEMPERATURE = 16.\n",
        "accuracy_alpha_25 = []\n",
        "\n",
        "for i in range(5):\n",
        "  print(\"Training: %d/5\" % (i))\n",
        "  fc_model = tf.keras.Sequential()\n",
        "\n",
        "  fc_model.add(Flatten(input_shape=(28, 28, 1)))\n",
        "  fc_model.add(Dense(784, activation='relu'))\n",
        "  fc_model.add(Dense(784, activation='relu'))\n",
        "  fc_model.add(Dense(10))\n",
        "  accuracy_alpha_25.append(train_and_evaluate(fc_model, compute_student_loss))\n",
        "print(\"Average Final Test Accuracy: %f\" % (np.mean(accuracy_alpha_25)))\n",
        "print(\"\")\n"
      ],
      "metadata": {
        "colab": {
          "base_uri": "https://localhost:8080/"
        },
        "id": "vQC6JcVyUmzr",
        "outputId": "f3ce386e-87af-468b-9b90-d4a9044a8b0a"
      },
      "execution_count": null,
      "outputs": [
        {
          "output_type": "stream",
          "name": "stdout",
          "text": [
            "Training: 0/5\n",
            "Epoch 1: Class_accuracy: 96.88%\n",
            "Epoch 2: Class_accuracy: 97.84%\n",
            "Epoch 3: Class_accuracy: 98.26%\n",
            "Epoch 4: Class_accuracy: 98.48%\n",
            "Epoch 5: Class_accuracy: 98.55%\n",
            "Epoch 6: Class_accuracy: 98.65%\n",
            "Epoch 7: Class_accuracy: 98.66%\n",
            "Epoch 8: Class_accuracy: 98.66%\n",
            "Epoch 9: Class_accuracy: 98.73%\n",
            "Epoch 10: Class_accuracy: 98.77%\n",
            "Epoch 11: Class_accuracy: 98.79%\n",
            "Epoch 12: Class_accuracy: 98.66%\n",
            "Training: 1/5\n",
            "Epoch 1: Class_accuracy: 96.76%\n",
            "Epoch 2: Class_accuracy: 97.94%\n",
            "Epoch 3: Class_accuracy: 98.33%\n",
            "Epoch 4: Class_accuracy: 98.42%\n",
            "Epoch 5: Class_accuracy: 98.58%\n",
            "Epoch 6: Class_accuracy: 98.67%\n",
            "Epoch 7: Class_accuracy: 98.67%\n",
            "Epoch 8: Class_accuracy: 98.67%\n",
            "Epoch 9: Class_accuracy: 98.71%\n",
            "Epoch 10: Class_accuracy: 98.71%\n",
            "Epoch 11: Class_accuracy: 98.73%\n",
            "Epoch 12: Class_accuracy: 98.81%\n",
            "Training: 2/5\n",
            "Epoch 1: Class_accuracy: 96.93%\n",
            "Epoch 2: Class_accuracy: 97.89%\n",
            "Epoch 3: Class_accuracy: 98.35%\n",
            "Epoch 4: Class_accuracy: 98.50%\n",
            "Epoch 5: Class_accuracy: 98.60%\n",
            "Epoch 6: Class_accuracy: 98.63%\n",
            "Epoch 7: Class_accuracy: 98.63%\n",
            "Epoch 8: Class_accuracy: 98.73%\n",
            "Epoch 9: Class_accuracy: 98.78%\n",
            "Epoch 10: Class_accuracy: 98.75%\n",
            "Epoch 11: Class_accuracy: 98.77%\n",
            "Epoch 12: Class_accuracy: 98.79%\n",
            "Training: 3/5\n",
            "Epoch 1: Class_accuracy: 96.82%\n",
            "Epoch 2: Class_accuracy: 98.00%\n",
            "Epoch 3: Class_accuracy: 98.36%\n",
            "Epoch 4: Class_accuracy: 98.45%\n",
            "Epoch 5: Class_accuracy: 98.60%\n",
            "Epoch 6: Class_accuracy: 98.57%\n",
            "Epoch 7: Class_accuracy: 98.72%\n",
            "Epoch 8: Class_accuracy: 98.77%\n",
            "Epoch 9: Class_accuracy: 98.82%\n",
            "Epoch 10: Class_accuracy: 98.86%\n",
            "Epoch 11: Class_accuracy: 98.76%\n",
            "Epoch 12: Class_accuracy: 98.89%\n",
            "Training: 4/5\n",
            "Epoch 1: Class_accuracy: 96.90%\n",
            "Epoch 2: Class_accuracy: 98.06%\n",
            "Epoch 3: Class_accuracy: 98.36%\n",
            "Epoch 4: Class_accuracy: 98.48%\n",
            "Epoch 5: Class_accuracy: 98.63%\n",
            "Epoch 6: Class_accuracy: 98.69%\n",
            "Epoch 7: Class_accuracy: 98.71%\n",
            "Epoch 8: Class_accuracy: 98.73%\n",
            "Epoch 9: Class_accuracy: 98.74%\n",
            "Epoch 10: Class_accuracy: 98.84%\n",
            "Epoch 11: Class_accuracy: 98.85%\n",
            "Epoch 12: Class_accuracy: 98.75%\n",
            "Average Final Test Accuracy: 98.780006\n",
            "\n"
          ]
        }
      ]
    },
    {
      "cell_type": "code",
      "source": [
        "ALPHA = 0.75\n",
        "DISTILLATION_TEMPERATURE = 32.\n",
        "accuracy_alpha_75_32 = []\n",
        "\n",
        "for i in range(5):\n",
        "  print(\"Training: %d/5\" % (i))\n",
        "  fc_model = tf.keras.Sequential()\n",
        "\n",
        "  fc_model.add(Flatten(input_shape=(28, 28, 1)))\n",
        "  fc_model.add(Dense(784, activation='relu'))\n",
        "  fc_model.add(Dense(784, activation='relu'))\n",
        "  fc_model.add(Dense(10))\n",
        "  accuracy_alpha_75_32.append(train_and_evaluate(fc_model, compute_student_loss))\n",
        "print(\"Average Final Test Accuracy: %f\" % (np.mean(accuracy_alpha_75_32)))\n",
        "print(\"\")\n"
      ],
      "metadata": {
        "colab": {
          "base_uri": "https://localhost:8080/"
        },
        "id": "zOjWZJViX-_L",
        "outputId": "36012005-90ec-4106-e20e-3cf01c2dfc5f"
      },
      "execution_count": null,
      "outputs": [
        {
          "output_type": "stream",
          "name": "stdout",
          "text": [
            "Training: 0/5\n",
            "Epoch 1: Class_accuracy: 96.57%\n",
            "Epoch 2: Class_accuracy: 97.65%\n",
            "Epoch 3: Class_accuracy: 98.07%\n",
            "Epoch 4: Class_accuracy: 98.21%\n",
            "Epoch 5: Class_accuracy: 98.29%\n",
            "Epoch 6: Class_accuracy: 98.45%\n",
            "Epoch 7: Class_accuracy: 98.53%\n",
            "Epoch 8: Class_accuracy: 98.52%\n",
            "Epoch 9: Class_accuracy: 98.64%\n",
            "Epoch 10: Class_accuracy: 98.63%\n",
            "Epoch 11: Class_accuracy: 98.70%\n",
            "Epoch 12: Class_accuracy: 98.62%\n",
            "Training: 1/5\n",
            "Epoch 1: Class_accuracy: 96.56%\n",
            "Epoch 2: Class_accuracy: 97.75%\n",
            "Epoch 3: Class_accuracy: 98.11%\n",
            "Epoch 4: Class_accuracy: 98.31%\n",
            "Epoch 5: Class_accuracy: 98.52%\n",
            "Epoch 6: Class_accuracy: 98.53%\n",
            "Epoch 7: Class_accuracy: 98.62%\n",
            "Epoch 8: Class_accuracy: 98.66%\n",
            "Epoch 9: Class_accuracy: 98.66%\n",
            "Epoch 10: Class_accuracy: 98.64%\n",
            "Epoch 11: Class_accuracy: 98.76%\n",
            "Epoch 12: Class_accuracy: 98.72%\n",
            "Training: 2/5\n",
            "Epoch 1: Class_accuracy: 96.69%\n",
            "Epoch 2: Class_accuracy: 97.67%\n",
            "Epoch 3: Class_accuracy: 98.24%\n",
            "Epoch 4: Class_accuracy: 98.34%\n",
            "Epoch 5: Class_accuracy: 98.50%\n",
            "Epoch 6: Class_accuracy: 98.64%\n",
            "Epoch 7: Class_accuracy: 98.65%\n",
            "Epoch 8: Class_accuracy: 98.63%\n",
            "Epoch 9: Class_accuracy: 98.75%\n",
            "Epoch 10: Class_accuracy: 98.73%\n",
            "Epoch 11: Class_accuracy: 98.85%\n",
            "Epoch 12: Class_accuracy: 98.82%\n",
            "Training: 3/5\n",
            "Epoch 1: Class_accuracy: 96.67%\n",
            "Epoch 2: Class_accuracy: 97.76%\n",
            "Epoch 3: Class_accuracy: 98.22%\n",
            "Epoch 4: Class_accuracy: 98.41%\n",
            "Epoch 5: Class_accuracy: 98.55%\n",
            "Epoch 6: Class_accuracy: 98.64%\n",
            "Epoch 7: Class_accuracy: 98.64%\n",
            "Epoch 8: Class_accuracy: 98.67%\n",
            "Epoch 9: Class_accuracy: 98.68%\n",
            "Epoch 10: Class_accuracy: 98.71%\n",
            "Epoch 11: Class_accuracy: 98.80%\n",
            "Epoch 12: Class_accuracy: 98.82%\n",
            "Training: 4/5\n",
            "Epoch 1: Class_accuracy: 96.78%\n",
            "Epoch 2: Class_accuracy: 97.80%\n",
            "Epoch 3: Class_accuracy: 98.06%\n",
            "Epoch 4: Class_accuracy: 98.39%\n",
            "Epoch 5: Class_accuracy: 98.37%\n",
            "Epoch 6: Class_accuracy: 98.59%\n",
            "Epoch 7: Class_accuracy: 98.69%\n",
            "Epoch 8: Class_accuracy: 98.67%\n",
            "Epoch 9: Class_accuracy: 98.72%\n",
            "Epoch 10: Class_accuracy: 98.67%\n",
            "Epoch 11: Class_accuracy: 98.75%\n",
            "Epoch 12: Class_accuracy: 98.78%\n",
            "Average Final Test Accuracy: 98.751999\n",
            "\n"
          ]
        }
      ]
    },
    {
      "cell_type": "code",
      "source": [
        "ALPHA = 0.25\n",
        "DISTILLATION_TEMPERATURE = 32.\n",
        "accuracy_alpha_25_32 = []\n",
        "\n",
        "for i in range(5):\n",
        "  print(\"Training: %d/5\" % (i))\n",
        "  fc_model = tf.keras.Sequential()\n",
        "\n",
        "  fc_model.add(Flatten(input_shape=(28, 28, 1)))\n",
        "  fc_model.add(Dense(784, activation='relu'))\n",
        "  fc_model.add(Dense(784, activation='relu'))\n",
        "  fc_model.add(Dense(10))\n",
        "  accuracy_alpha_25_32.append(train_and_evaluate(fc_model, compute_student_loss))\n",
        "print(\"Average Final Test Accuracy: %f\" % (np.mean(accuracy_alpha_25_32)))\n",
        "print(\"\")\n"
      ],
      "metadata": {
        "colab": {
          "base_uri": "https://localhost:8080/"
        },
        "id": "X1d3_cSxYCu2",
        "outputId": "56f8a515-832b-40d0-db52-cf75f3334801"
      },
      "execution_count": null,
      "outputs": [
        {
          "output_type": "stream",
          "name": "stdout",
          "text": [
            "Training: 0/5\n",
            "Epoch 1: Class_accuracy: 96.77%\n",
            "Epoch 2: Class_accuracy: 97.98%\n",
            "Epoch 3: Class_accuracy: 98.29%\n",
            "Epoch 4: Class_accuracy: 98.52%\n",
            "Epoch 5: Class_accuracy: 98.64%\n",
            "Epoch 6: Class_accuracy: 98.61%\n",
            "Epoch 7: Class_accuracy: 98.73%\n",
            "Epoch 8: Class_accuracy: 98.73%\n",
            "Epoch 9: Class_accuracy: 98.73%\n",
            "Epoch 10: Class_accuracy: 98.80%\n",
            "Epoch 11: Class_accuracy: 98.82%\n",
            "Epoch 12: Class_accuracy: 98.86%\n",
            "Training: 1/5\n",
            "Epoch 1: Class_accuracy: 96.73%\n",
            "Epoch 2: Class_accuracy: 97.95%\n",
            "Epoch 3: Class_accuracy: 98.36%\n",
            "Epoch 4: Class_accuracy: 98.63%\n",
            "Epoch 5: Class_accuracy: 98.63%\n",
            "Epoch 6: Class_accuracy: 98.63%\n",
            "Epoch 7: Class_accuracy: 98.70%\n",
            "Epoch 8: Class_accuracy: 98.77%\n",
            "Epoch 9: Class_accuracy: 98.73%\n",
            "Epoch 10: Class_accuracy: 98.88%\n",
            "Epoch 11: Class_accuracy: 98.81%\n",
            "Epoch 12: Class_accuracy: 98.82%\n",
            "Training: 2/5\n",
            "Epoch 1: Class_accuracy: 97.00%\n",
            "Epoch 2: Class_accuracy: 98.05%\n",
            "Epoch 3: Class_accuracy: 98.35%\n",
            "Epoch 4: Class_accuracy: 98.57%\n",
            "Epoch 5: Class_accuracy: 98.62%\n",
            "Epoch 6: Class_accuracy: 98.70%\n",
            "Epoch 7: Class_accuracy: 98.70%\n",
            "Epoch 8: Class_accuracy: 98.74%\n",
            "Epoch 9: Class_accuracy: 98.75%\n",
            "Epoch 10: Class_accuracy: 98.79%\n",
            "Epoch 11: Class_accuracy: 98.82%\n",
            "Epoch 12: Class_accuracy: 98.78%\n",
            "Training: 3/5\n",
            "Epoch 1: Class_accuracy: 97.04%\n",
            "Epoch 2: Class_accuracy: 98.10%\n",
            "Epoch 3: Class_accuracy: 98.27%\n",
            "Epoch 4: Class_accuracy: 98.46%\n",
            "Epoch 5: Class_accuracy: 98.54%\n",
            "Epoch 6: Class_accuracy: 98.70%\n",
            "Epoch 7: Class_accuracy: 98.72%\n",
            "Epoch 8: Class_accuracy: 98.75%\n",
            "Epoch 9: Class_accuracy: 98.82%\n",
            "Epoch 10: Class_accuracy: 98.75%\n",
            "Epoch 11: Class_accuracy: 98.81%\n",
            "Epoch 12: Class_accuracy: 98.81%\n",
            "Training: 4/5\n",
            "Epoch 1: Class_accuracy: 96.92%\n",
            "Epoch 2: Class_accuracy: 97.99%\n",
            "Epoch 3: Class_accuracy: 98.43%\n",
            "Epoch 4: Class_accuracy: 98.37%\n",
            "Epoch 5: Class_accuracy: 98.62%\n",
            "Epoch 6: Class_accuracy: 98.59%\n",
            "Epoch 7: Class_accuracy: 98.72%\n",
            "Epoch 8: Class_accuracy: 98.84%\n",
            "Epoch 9: Class_accuracy: 98.75%\n",
            "Epoch 10: Class_accuracy: 98.82%\n",
            "Epoch 11: Class_accuracy: 98.86%\n",
            "Epoch 12: Class_accuracy: 98.85%\n",
            "Average Final Test Accuracy: 98.823997\n",
            "\n"
          ]
        }
      ]
    },
    {
      "cell_type": "code",
      "source": [
        "ALPHA = 0.4\n",
        "DISTILLATION_TEMPERATURE = 32.\n",
        "accuracy_alpha_4_32 = []\n",
        "\n",
        "for i in range(5):\n",
        "  print(\"Training: %d/5\" % (i))\n",
        "  fc_model = tf.keras.Sequential()\n",
        "\n",
        "  fc_model.add(Flatten(input_shape=(28, 28, 1)))\n",
        "  fc_model.add(Dense(784, activation='relu'))\n",
        "  fc_model.add(Dense(784, activation='relu'))\n",
        "  fc_model.add(Dense(10))\n",
        "  accuracy_alpha_4_32.append(train_and_evaluate(fc_model, compute_student_loss))\n",
        "print(\"Average Final Test Accuracy: %f\" % (np.mean(accuracy_alpha_4_32)))\n",
        "print(\"\")\n"
      ],
      "metadata": {
        "colab": {
          "base_uri": "https://localhost:8080/"
        },
        "id": "x20Kv1scbpRh",
        "outputId": "200c347c-a647-4cd5-c0a0-85394776cdae"
      },
      "execution_count": null,
      "outputs": [
        {
          "output_type": "stream",
          "name": "stdout",
          "text": [
            "Training: 0/5\n",
            "Epoch 1: Class_accuracy: 96.98%\n",
            "Epoch 2: Class_accuracy: 98.15%\n",
            "Epoch 3: Class_accuracy: 98.33%\n",
            "Epoch 4: Class_accuracy: 98.49%\n",
            "Epoch 5: Class_accuracy: 98.56%\n",
            "Epoch 6: Class_accuracy: 98.55%\n",
            "Epoch 7: Class_accuracy: 98.80%\n",
            "Epoch 8: Class_accuracy: 98.72%\n",
            "Epoch 9: Class_accuracy: 98.66%\n",
            "Epoch 10: Class_accuracy: 98.89%\n",
            "Epoch 11: Class_accuracy: 98.83%\n",
            "Epoch 12: Class_accuracy: 98.74%\n",
            "Training: 1/5\n",
            "Epoch 1: Class_accuracy: 96.75%\n",
            "Epoch 2: Class_accuracy: 97.91%\n",
            "Epoch 3: Class_accuracy: 98.18%\n",
            "Epoch 4: Class_accuracy: 98.51%\n",
            "Epoch 5: Class_accuracy: 98.57%\n",
            "Epoch 6: Class_accuracy: 98.60%\n",
            "Epoch 7: Class_accuracy: 98.72%\n",
            "Epoch 8: Class_accuracy: 98.65%\n",
            "Epoch 9: Class_accuracy: 98.77%\n",
            "Epoch 10: Class_accuracy: 98.72%\n",
            "Epoch 11: Class_accuracy: 98.83%\n",
            "Epoch 12: Class_accuracy: 98.75%\n",
            "Training: 2/5\n",
            "Epoch 1: Class_accuracy: 96.79%\n",
            "Epoch 2: Class_accuracy: 97.99%\n",
            "Epoch 3: Class_accuracy: 98.27%\n",
            "Epoch 4: Class_accuracy: 98.46%\n",
            "Epoch 5: Class_accuracy: 98.49%\n",
            "Epoch 6: Class_accuracy: 98.64%\n",
            "Epoch 7: Class_accuracy: 98.67%\n",
            "Epoch 8: Class_accuracy: 98.70%\n",
            "Epoch 9: Class_accuracy: 98.85%\n",
            "Epoch 10: Class_accuracy: 98.80%\n",
            "Epoch 11: Class_accuracy: 98.82%\n",
            "Epoch 12: Class_accuracy: 98.83%\n",
            "Training: 3/5\n",
            "Epoch 1: Class_accuracy: 96.78%\n",
            "Epoch 2: Class_accuracy: 97.98%\n",
            "Epoch 3: Class_accuracy: 98.27%\n",
            "Epoch 4: Class_accuracy: 98.47%\n",
            "Epoch 5: Class_accuracy: 98.55%\n",
            "Epoch 6: Class_accuracy: 98.60%\n",
            "Epoch 7: Class_accuracy: 98.63%\n",
            "Epoch 8: Class_accuracy: 98.72%\n",
            "Epoch 9: Class_accuracy: 98.70%\n",
            "Epoch 10: Class_accuracy: 98.75%\n",
            "Epoch 11: Class_accuracy: 98.72%\n",
            "Epoch 12: Class_accuracy: 98.74%\n",
            "Training: 4/5\n",
            "Epoch 1: Class_accuracy: 96.62%\n",
            "Epoch 2: Class_accuracy: 97.88%\n",
            "Epoch 3: Class_accuracy: 98.37%\n",
            "Epoch 4: Class_accuracy: 98.44%\n",
            "Epoch 5: Class_accuracy: 98.57%\n",
            "Epoch 6: Class_accuracy: 98.63%\n",
            "Epoch 7: Class_accuracy: 98.67%\n",
            "Epoch 8: Class_accuracy: 98.77%\n",
            "Epoch 9: Class_accuracy: 98.76%\n",
            "Epoch 10: Class_accuracy: 98.83%\n",
            "Epoch 11: Class_accuracy: 98.80%\n",
            "Epoch 12: Class_accuracy: 98.76%\n",
            "Average Final Test Accuracy: 98.764000\n",
            "\n"
          ]
        }
      ]
    },
    {
      "cell_type": "code",
      "source": [
        "ALPHA = 0.6\n",
        "DISTILLATION_TEMPERATURE = 32.\n",
        "accuracy_alpha_6_32 = []\n",
        "\n",
        "for i in range(5):\n",
        "  print(\"Training: %d/5\" % (i))\n",
        "  fc_model = tf.keras.Sequential()\n",
        "\n",
        "  fc_model.add(Flatten(input_shape=(28, 28, 1)))\n",
        "  fc_model.add(Dense(784, activation='relu'))\n",
        "  fc_model.add(Dense(784, activation='relu'))\n",
        "  fc_model.add(Dense(10))\n",
        "  accuracy_alpha_6_32.append(train_and_evaluate(fc_model, compute_student_loss))\n",
        "print(\"Average Final Test Accuracy: %f\" % (np.mean(accuracy_alpha_6_32)))\n",
        "print(\"\")\n"
      ],
      "metadata": {
        "colab": {
          "base_uri": "https://localhost:8080/"
        },
        "id": "5GzHYgOJcWJ5",
        "outputId": "b55f4f4c-aa10-4b80-ba00-3a137548225a"
      },
      "execution_count": null,
      "outputs": [
        {
          "output_type": "stream",
          "name": "stdout",
          "text": [
            "Training: 0/5\n",
            "Epoch 1: Class_accuracy: 96.73%\n",
            "Epoch 2: Class_accuracy: 97.90%\n",
            "Epoch 3: Class_accuracy: 98.30%\n",
            "Epoch 4: Class_accuracy: 98.49%\n",
            "Epoch 5: Class_accuracy: 98.54%\n",
            "Epoch 6: Class_accuracy: 98.71%\n",
            "Epoch 7: Class_accuracy: 98.64%\n",
            "Epoch 8: Class_accuracy: 98.79%\n",
            "Epoch 9: Class_accuracy: 98.80%\n",
            "Epoch 10: Class_accuracy: 98.83%\n",
            "Epoch 11: Class_accuracy: 98.86%\n",
            "Epoch 12: Class_accuracy: 98.95%\n",
            "Training: 1/5\n",
            "Epoch 1: Class_accuracy: 96.47%\n",
            "Epoch 2: Class_accuracy: 97.74%\n",
            "Epoch 3: Class_accuracy: 98.27%\n",
            "Epoch 4: Class_accuracy: 98.42%\n",
            "Epoch 5: Class_accuracy: 98.43%\n",
            "Epoch 6: Class_accuracy: 98.49%\n",
            "Epoch 7: Class_accuracy: 98.68%\n",
            "Epoch 8: Class_accuracy: 98.62%\n",
            "Epoch 9: Class_accuracy: 98.76%\n",
            "Epoch 10: Class_accuracy: 98.78%\n",
            "Epoch 11: Class_accuracy: 98.71%\n",
            "Epoch 12: Class_accuracy: 98.73%\n",
            "Training: 2/5\n",
            "Epoch 1: Class_accuracy: 96.76%\n",
            "Epoch 2: Class_accuracy: 98.02%\n",
            "Epoch 3: Class_accuracy: 98.25%\n",
            "Epoch 4: Class_accuracy: 98.43%\n",
            "Epoch 5: Class_accuracy: 98.57%\n",
            "Epoch 6: Class_accuracy: 98.66%\n",
            "Epoch 7: Class_accuracy: 98.68%\n",
            "Epoch 8: Class_accuracy: 98.65%\n",
            "Epoch 9: Class_accuracy: 98.77%\n",
            "Epoch 10: Class_accuracy: 98.68%\n",
            "Epoch 11: Class_accuracy: 98.71%\n",
            "Epoch 12: Class_accuracy: 98.75%\n",
            "Training: 3/5\n",
            "Epoch 1: Class_accuracy: 96.81%\n",
            "Epoch 2: Class_accuracy: 97.83%\n",
            "Epoch 3: Class_accuracy: 98.33%\n",
            "Epoch 4: Class_accuracy: 98.43%\n",
            "Epoch 5: Class_accuracy: 98.51%\n",
            "Epoch 6: Class_accuracy: 98.60%\n",
            "Epoch 7: Class_accuracy: 98.67%\n",
            "Epoch 8: Class_accuracy: 98.73%\n",
            "Epoch 9: Class_accuracy: 98.74%\n",
            "Epoch 10: Class_accuracy: 98.71%\n",
            "Epoch 11: Class_accuracy: 98.67%\n",
            "Epoch 12: Class_accuracy: 98.83%\n",
            "Training: 4/5\n",
            "Epoch 1: Class_accuracy: 96.63%\n",
            "Epoch 2: Class_accuracy: 97.96%\n",
            "Epoch 3: Class_accuracy: 98.24%\n",
            "Epoch 4: Class_accuracy: 98.42%\n",
            "Epoch 5: Class_accuracy: 98.54%\n",
            "Epoch 6: Class_accuracy: 98.63%\n",
            "Epoch 7: Class_accuracy: 98.64%\n",
            "Epoch 8: Class_accuracy: 98.60%\n",
            "Epoch 9: Class_accuracy: 98.61%\n",
            "Epoch 10: Class_accuracy: 98.71%\n",
            "Epoch 11: Class_accuracy: 98.67%\n",
            "Epoch 12: Class_accuracy: 98.65%\n",
            "Average Final Test Accuracy: 98.781998\n",
            "\n"
          ]
        }
      ]
    },
    {
      "cell_type": "markdown",
      "source": [
        "## Notable Final Accuracies"
      ],
      "metadata": {
        "id": "eMg3ugoDmo4E"
      }
    },
    {
      "cell_type": "code",
      "source": [
        "print(\"Accuracy for alpha=0.25, T=32: %.3f +/- %.3f\" % (np.mean(accuracy_alpha_25_32),np.std(accuracy_alpha_25_32)))\n",
        "print(\"Accuracy for alpha=0.4, T=32: %.3f +/- %.3f\" % (np.mean(accuracy_alpha_4_32),np.std(accuracy_alpha_4_32)))\n",
        "print(\"Accuracy for alpha=0.5, T=32: %.3f +/- %.3f\" % (np.mean(accuracy_32),np.std(accuracy_32)))\n",
        "print(\"Accuracy for alpha=0.6, T=32: %.3f +/- %.3f\" % (np.mean(accuracy_alpha_6_32),np.std(accuracy_alpha_6_32)))\n",
        "print(\"Accuracy for alpha=0.75, T=32: %.3f +/- %.3f\" % (np.mean(accuracy_alpha_75_32),np.std(accuracy_alpha_75_32)))"
      ],
      "metadata": {
        "colab": {
          "base_uri": "https://localhost:8080/"
        },
        "id": "Is65sdhkjoj2",
        "outputId": "a0d8c49e-3673-41ac-ff0b-bffd3d05ca9e"
      },
      "execution_count": null,
      "outputs": [
        {
          "output_type": "stream",
          "name": "stdout",
          "text": [
            "Accuracy for alpha=0.25, T=32: 98.824 +/- 0.029\n",
            "Accuracy for alpha=0.4, T=32: 98.764 +/- 0.034\n",
            "Accuracy for alpha=0.5, T=32: 98.832 +/- 0.050\n",
            "Accuracy for alpha=0.6, T=32: 98.782 +/- 0.102\n",
            "Accuracy for alpha=0.75, T=32: 98.752 +/- 0.075\n"
          ]
        }
      ]
    },
    {
      "cell_type": "code",
      "source": [
        "print(\"Accuracy for alpha=0.25, T=16: %.3f +/- %.3f\" % (np.mean(accuracy_alpha_25),np.std(accuracy_alpha_25)))\n",
        "print(\"Accuracy for alpha=0.5, T=16: %.3f +/- %.3f\" % (np.mean(accuracy_16),np.std(accuracy_16)))\n",
        "print(\"Accuracy for alpha=0.75, T=16: %.3f +/- %.3f\" % (np.mean(accuracy_alpha_75),np.std(accuracy_alpha_75)))"
      ],
      "metadata": {
        "colab": {
          "base_uri": "https://localhost:8080/"
        },
        "id": "mAXbHBDskuYD",
        "outputId": "9fb81578-1598-44cf-cb76-92d277ad7d82"
      },
      "execution_count": null,
      "outputs": [
        {
          "output_type": "stream",
          "name": "stdout",
          "text": [
            "Accuracy for alpha=0.25, T=16: 98.780 +/- 0.075\n",
            "Accuracy for alpha=0.5, T=16: 98.814 +/- 0.057\n",
            "Accuracy for alpha=0.75, T=16: 98.754 +/- 0.055\n"
          ]
        }
      ]
    },
    {
      "cell_type": "markdown",
      "source": [
        "Conclusion: The best hyperparameters are alpha=0.5, T=32. "
      ],
      "metadata": {
        "id": "CnVXiqSnHjVG"
      }
    },
    {
      "cell_type": "markdown",
      "metadata": {
        "id": "sj1N38fnRTNB"
      },
      "source": [
        "# Test accuracy vs. temperature curve"
      ]
    },
    {
      "cell_type": "code",
      "execution_count": null,
      "metadata": {
        "id": "gX4dbazrRWIz",
        "colab": {
          "base_uri": "https://localhost:8080/",
          "height": 295
        },
        "outputId": "f78d1fa9-44e1-49e0-cd21-946944157a6e"
      },
      "outputs": [
        {
          "output_type": "display_data",
          "data": {
            "text/plain": [
              "<Figure size 432x288 with 1 Axes>"
            ],
            "image/png": "[encoded data removed]"
          },
          "metadata": {
            "needs_background": "light"
          }
        }
      ],
      "source": [
        "# your code start from here for step 6\n",
        "temperature = [1, 2, 4, 16, 32, 64]\n",
        "accuracy = [98.327995, 98.577995, 98.812, 98.814, 98.832, 98.75399]\n",
        "std = [0.067351855, 0.030592872, 0.029933026, 0.057479598, 0.05035723, 0.0300653]\n",
        "plt.plot(temperature, accuracy)\n",
        "\n",
        "plt.errorbar(temperature, accuracy, std, linestyle='None', marker='^')\n",
        "\n",
        "plt.xlabel('Temperature')\n",
        "plt.ylabel('Test Accuracy')\n",
        "plt.title('Test Accuracy vs. Temperature Hyperparameter')\n",
        "plt.show()\n"
      ]
    },
    {
      "cell_type": "markdown",
      "metadata": {
        "id": "WNrH_1emRbGA"
      },
      "source": [
        "# Train student from scratch"
      ]
    },
    {
      "cell_type": "code",
      "execution_count": null,
      "metadata": {
        "id": "HjospsxIRbQ6",
        "colab": {
          "base_uri": "https://localhost:8080/"
        },
        "outputId": "c44fbc85-3edd-4179-f10e-22124bdb2d65"
      },
      "outputs": [
        {
          "output_type": "stream",
          "name": "stdout",
          "text": [
            "Epoch 1: Class_accuracy: 96.97%\n",
            "Epoch 2: Class_accuracy: 97.47%\n",
            "Epoch 3: Class_accuracy: 97.73%\n",
            "Epoch 4: Class_accuracy: 97.75%\n",
            "Epoch 5: Class_accuracy: 98.23%\n",
            "Epoch 6: Class_accuracy: 98.36%\n",
            "Epoch 7: Class_accuracy: 97.96%\n",
            "Epoch 8: Class_accuracy: 97.84%\n",
            "Epoch 9: Class_accuracy: 98.08%\n",
            "Epoch 10: Class_accuracy: 98.25%\n",
            "Epoch 11: Class_accuracy: 98.30%\n",
            "Epoch 12: Class_accuracy: 98.25%\n"
          ]
        },
        {
          "output_type": "execute_result",
          "data": {
            "text/plain": [
              "98.25"
            ]
          },
          "metadata": {},
          "execution_count": 60
        }
      ],
      "source": [
        "# Build fully connected student.\n",
        "fc_model_no_distillation = tf.keras.Sequential()\n",
        "\n",
        "# your code start from here for step 7\n",
        "fc_model_no_distillation.add(Flatten(input_shape=(28, 28, 1)))\n",
        "fc_model_no_distillation.add(Dense(784, activation='relu'))\n",
        "fc_model_no_distillation.add(Dense(784, activation='relu'))\n",
        "fc_model_no_distillation.add(Dense(10))\n",
        "\n",
        "\n",
        "#@test {\"output\": \"ignore\"}\n",
        "\n",
        "def compute_plain_cross_entropy_loss(images, labels):\n",
        "  \"\"\"Compute plain loss for given images and labels.\n",
        "\n",
        "  For fair comparison and convenience, this function also performs a\n",
        "  LogSumExp over subclasses, but does not perform subclass distillation.\n",
        "\n",
        "  Args:\n",
        "    images: Tensor representing a batch of images.\n",
        "    labels: Tensor representing a batch of labels.\n",
        "\n",
        "  Returns:\n",
        "    Scalar loss Tensor.\n",
        "  \"\"\"\n",
        "  # your code start from here for step 7\n",
        "\n",
        "  student_subclass_logits = fc_model_no_distillation(images, training=True)\n",
        "  cross_entropy_loss = tf.reduce_mean(tf.nn.softmax_cross_entropy_with_logits(labels, student_subclass_logits))\n",
        "  \n",
        "  return cross_entropy_loss\n",
        "\n",
        "\n",
        "train_and_evaluate(fc_model_no_distillation, compute_plain_cross_entropy_loss)"
      ]
    },
    {
      "cell_type": "code",
      "source": [
        "accuracy_plain = []\n",
        "\n",
        "for i in range(5):\n",
        "  print(\"Training: %d/5\" % (i))\n",
        "  fc_model_no_distillation = tf.keras.Sequential()\n",
        "\n",
        "  fc_model_no_distillation.add(Flatten(input_shape=(28, 28, 1)))\n",
        "  fc_model_no_distillation.add(Dense(784, activation='relu'))\n",
        "  fc_model_no_distillation.add(Dense(784, activation='relu'))\n",
        "  fc_model_no_distillation.add(Dense(10))\n",
        "  accuracy_plain.append(train_and_evaluate(fc_model_no_distillation, compute_plain_cross_entropy_loss))\n",
        "\n",
        "print(\"Average Final Test Accuracy: %f\" % (np.mean(accuracy_plain)))\n",
        "print(\"\")"
      ],
      "metadata": {
        "colab": {
          "base_uri": "https://localhost:8080/"
        },
        "id": "U30K9myTVr8g",
        "outputId": "2ef6d57b-ccaa-4113-9d2c-7c57af12ddc8"
      },
      "execution_count": null,
      "outputs": [
        {
          "output_type": "stream",
          "name": "stdout",
          "text": [
            "Training: 0/5\n",
            "Epoch 1: Class_accuracy: 96.82%\n",
            "Epoch 2: Class_accuracy: 97.59%\n",
            "Epoch 3: Class_accuracy: 97.92%\n",
            "Epoch 4: Class_accuracy: 97.94%\n",
            "Epoch 5: Class_accuracy: 97.87%\n",
            "Epoch 6: Class_accuracy: 97.99%\n",
            "Epoch 7: Class_accuracy: 98.13%\n",
            "Epoch 8: Class_accuracy: 97.94%\n",
            "Epoch 9: Class_accuracy: 97.97%\n",
            "Epoch 10: Class_accuracy: 98.14%\n",
            "Epoch 11: Class_accuracy: 98.18%\n",
            "Epoch 12: Class_accuracy: 98.15%\n",
            "Training: 1/5\n",
            "Epoch 1: Class_accuracy: 96.59%\n",
            "Epoch 2: Class_accuracy: 97.62%\n",
            "Epoch 3: Class_accuracy: 98.00%\n",
            "Epoch 4: Class_accuracy: 98.04%\n",
            "Epoch 5: Class_accuracy: 97.84%\n",
            "Epoch 6: Class_accuracy: 97.93%\n",
            "Epoch 7: Class_accuracy: 97.54%\n",
            "Epoch 8: Class_accuracy: 98.03%\n",
            "Epoch 9: Class_accuracy: 98.09%\n",
            "Epoch 10: Class_accuracy: 97.91%\n",
            "Epoch 11: Class_accuracy: 97.91%\n",
            "Epoch 12: Class_accuracy: 97.75%\n",
            "Training: 2/5\n",
            "Epoch 1: Class_accuracy: 96.03%\n",
            "Epoch 2: Class_accuracy: 97.64%\n",
            "Epoch 3: Class_accuracy: 98.06%\n",
            "Epoch 4: Class_accuracy: 98.05%\n",
            "Epoch 5: Class_accuracy: 97.86%\n",
            "Epoch 6: Class_accuracy: 98.31%\n",
            "Epoch 7: Class_accuracy: 97.87%\n",
            "Epoch 8: Class_accuracy: 98.10%\n",
            "Epoch 9: Class_accuracy: 98.17%\n",
            "Epoch 10: Class_accuracy: 98.10%\n",
            "Epoch 11: Class_accuracy: 98.11%\n",
            "Epoch 12: Class_accuracy: 97.95%\n",
            "Training: 3/5\n",
            "Epoch 1: Class_accuracy: 96.86%\n",
            "Epoch 2: Class_accuracy: 97.15%\n",
            "Epoch 3: Class_accuracy: 97.81%\n",
            "Epoch 4: Class_accuracy: 97.98%\n",
            "Epoch 5: Class_accuracy: 98.01%\n",
            "Epoch 6: Class_accuracy: 98.46%\n",
            "Epoch 7: Class_accuracy: 97.52%\n",
            "Epoch 8: Class_accuracy: 98.06%\n",
            "Epoch 9: Class_accuracy: 98.26%\n",
            "Epoch 10: Class_accuracy: 98.07%\n",
            "Epoch 11: Class_accuracy: 98.23%\n",
            "Epoch 12: Class_accuracy: 98.20%\n",
            "Training: 4/5\n",
            "Epoch 1: Class_accuracy: 96.72%\n",
            "Epoch 2: Class_accuracy: 97.57%\n",
            "Epoch 3: Class_accuracy: 97.89%\n",
            "Epoch 4: Class_accuracy: 98.10%\n",
            "Epoch 5: Class_accuracy: 98.04%\n",
            "Epoch 6: Class_accuracy: 97.82%\n",
            "Epoch 7: Class_accuracy: 97.97%\n",
            "Epoch 8: Class_accuracy: 97.82%\n",
            "Epoch 9: Class_accuracy: 97.98%\n",
            "Epoch 10: Class_accuracy: 97.93%\n",
            "Epoch 11: Class_accuracy: 98.01%\n",
            "Epoch 12: Class_accuracy: 97.91%\n",
            "Average Final Test Accuracy: 97.991997\n",
            "\n"
          ]
        }
      ]
    },
    {
      "cell_type": "code",
      "source": [
        "print(\"Teacher Accuracy: 99.22\")\n",
        "print(\"Best KD Accuracy: %.3f +/- %.3f\" % (np.mean(accuracy_32),np.std(accuracy_32)))\n",
        "print(\"Average Final Test Accuracy for Scratch Student: %.3f +/- %.3f\" % (np.mean(accuracy_plain), np.std(accuracy_plain)))"
      ],
      "metadata": {
        "colab": {
          "base_uri": "https://localhost:8080/"
        },
        "id": "xvLfZxrqm9wz",
        "outputId": "419b04ff-3f3e-4b69-87ea-d4597dd506a9"
      },
      "execution_count": null,
      "outputs": [
        {
          "output_type": "stream",
          "name": "stdout",
          "text": [
            "Teacher Accuracy: 99.22\n",
            "Best KD Accuracy: 98.832 +/- 0.050\n",
            "Average Final Test Accuracy for Scratch Student: 97.992 +/- 0.164\n"
          ]
        }
      ]
    },
    {
      "cell_type": "markdown",
      "metadata": {
        "id": "yq3JTpQ4RuhR"
      },
      "source": [
        "# Comparing the teacher and student model (number of of parameters and FLOPs) "
      ]
    },
    {
      "cell_type": "markdown",
      "source": [
        "## Number of parameters:"
      ],
      "metadata": {
        "id": "D8cihJQUWxBh"
      }
    },
    {
      "cell_type": "code",
      "execution_count": null,
      "metadata": {
        "id": "4V8GB2yRRuxF",
        "colab": {
          "base_uri": "https://localhost:8080/"
        },
        "outputId": "ceed887c-dcf0-4465-9e4a-25a3e99bf71f"
      },
      "outputs": [
        {
          "output_type": "execute_result",
          "data": {
            "text/plain": [
              "1011466"
            ]
          },
          "metadata": {},
          "execution_count": 64
        }
      ],
      "source": [
        "# your code start from here for step 8\n",
        "cnn_model.count_params()"
      ]
    },
    {
      "cell_type": "code",
      "source": [
        "cnn_model.summary()"
      ],
      "metadata": {
        "colab": {
          "base_uri": "https://localhost:8080/"
        },
        "id": "2KMtai0Qlm3u",
        "outputId": "60bd7329-c713-4f8b-f220-bec918530de8"
      },
      "execution_count": null,
      "outputs": [
        {
          "output_type": "stream",
          "name": "stdout",
          "text": [
            "Model: \"sequential\"\n",
            "_________________________________________________________________\n",
            " Layer (type)                Output Shape              Param #   \n",
            "=================================================================\n",
            " conv2d (Conv2D)             (None, 26, 26, 32)        320       \n",
            "                                                                 \n",
            " max_pooling2d (MaxPooling2D  (None, 25, 25, 32)       0         \n",
            " )                                                               \n",
            "                                                                 \n",
            " conv2d_1 (Conv2D)           (None, 23, 23, 64)        18496     \n",
            "                                                                 \n",
            " max_pooling2d_1 (MaxPooling  (None, 11, 11, 64)       0         \n",
            " 2D)                                                             \n",
            "                                                                 \n",
            " flatten (Flatten)           (None, 7744)              0         \n",
            "                                                                 \n",
            " dropout (Dropout)           (None, 7744)              0         \n",
            "                                                                 \n",
            " dense (Dense)               (None, 128)               991360    \n",
            "                                                                 \n",
            " dropout_1 (Dropout)         (None, 128)               0         \n",
            "                                                                 \n",
            " dense_1 (Dense)             (None, 10)                1290      \n",
            "                                                                 \n",
            "=================================================================\n",
            "Total params: 1,011,466\n",
            "Trainable params: 1,011,466\n",
            "Non-trainable params: 0\n",
            "_________________________________________________________________\n"
          ]
        }
      ]
    },
    {
      "cell_type": "code",
      "source": [
        "fc_model.count_params()"
      ],
      "metadata": {
        "colab": {
          "base_uri": "https://localhost:8080/"
        },
        "id": "rytNx3bxloja",
        "outputId": "4d452feb-169f-4c81-ac1c-c7aefb80f654"
      },
      "execution_count": null,
      "outputs": [
        {
          "output_type": "execute_result",
          "data": {
            "text/plain": [
              "1238730"
            ]
          },
          "metadata": {},
          "execution_count": 66
        }
      ]
    },
    {
      "cell_type": "code",
      "source": [
        "fc_model.summary()"
      ],
      "metadata": {
        "colab": {
          "base_uri": "https://localhost:8080/"
        },
        "id": "-9qnOmaXlqAF",
        "outputId": "2506ee7a-9abe-4d71-9cc1-257e28394b8c"
      },
      "execution_count": null,
      "outputs": [
        {
          "output_type": "stream",
          "name": "stdout",
          "text": [
            "Model: \"sequential_73\"\n",
            "_________________________________________________________________\n",
            " Layer (type)                Output Shape              Param #   \n",
            "=================================================================\n",
            " flatten_73 (Flatten)        (None, 784)               0         \n",
            "                                                                 \n",
            " dense_218 (Dense)           (None, 784)               615440    \n",
            "                                                                 \n",
            " dense_219 (Dense)           (None, 784)               615440    \n",
            "                                                                 \n",
            " dense_220 (Dense)           (None, 10)                7850      \n",
            "                                                                 \n",
            "=================================================================\n",
            "Total params: 1,238,730\n",
            "Trainable params: 1,238,730\n",
            "Non-trainable params: 0\n",
            "_________________________________________________________________\n"
          ]
        }
      ]
    },
    {
      "cell_type": "markdown",
      "source": [
        "## FLOPs: \n",
        "The keras-flops package is used. See https://github.com/tokusumi/keras-flops\n",
        "\n",
        "Note: This refers to # of operations to run a instance of a model, not the floating-point operations per second written in the assignment instruction (which measures computer performance)"
      ],
      "metadata": {
        "id": "bl6TeYehW0Ac"
      }
    },
    {
      "cell_type": "code",
      "source": [
        "!pip install keras-flops\n",
        "from keras_flops import get_flops"
      ],
      "metadata": {
        "colab": {
          "base_uri": "https://localhost:8080/"
        },
        "id": "pqEufp2HWvx2",
        "outputId": "3c7a9001-fc79-48a5-fc3f-4d4cd846f3f7"
      },
      "execution_count": null,
      "outputs": [
        {
          "output_type": "stream",
          "name": "stdout",
          "text": [
            "Collecting keras-flops\n",
            "  Downloading keras_flops-0.1.2-py3-none-any.whl (5.3 kB)\n",
            "Requirement already satisfied: tensorflow<3.0,>=2.2 in /usr/local/lib/python3.7/dist-packages (from keras-flops) (2.8.0)\n",
            "Requirement already satisfied: protobuf>=3.9.2 in /usr/local/lib/python3.7/dist-packages (from tensorflow<3.0,>=2.2->keras-flops) (3.17.3)\n",
            "Collecting tf-estimator-nightly==2.8.0.dev2021122109\n",
            "  Downloading tf_estimator_nightly-2.8.0.dev2021122109-py2.py3-none-any.whl (462 kB)\n",
            "\u001b[K     |████████████████████████████████| 462 kB 5.2 MB/s \n",
            "\u001b[?25hRequirement already satisfied: h5py>=2.9.0 in /usr/local/lib/python3.7/dist-packages (from tensorflow<3.0,>=2.2->keras-flops) (3.1.0)\n",
            "Requirement already satisfied: libclang>=9.0.1 in /usr/local/lib/python3.7/dist-packages (from tensorflow<3.0,>=2.2->keras-flops) (13.0.0)\n",
            "Requirement already satisfied: keras<2.9,>=2.8.0rc0 in /usr/local/lib/python3.7/dist-packages (from tensorflow<3.0,>=2.2->keras-flops) (2.8.0)\n",
            "Requirement already satisfied: tensorflow-io-gcs-filesystem>=0.23.1 in /usr/local/lib/python3.7/dist-packages (from tensorflow<3.0,>=2.2->keras-flops) (0.24.0)\n",
            "Requirement already satisfied: astunparse>=1.6.0 in /usr/local/lib/python3.7/dist-packages (from tensorflow<3.0,>=2.2->keras-flops) (1.6.3)\n",
            "Requirement already satisfied: flatbuffers>=1.12 in /usr/local/lib/python3.7/dist-packages (from tensorflow<3.0,>=2.2->keras-flops) (2.0)\n",
            "Requirement already satisfied: six>=1.12.0 in /usr/local/lib/python3.7/dist-packages (from tensorflow<3.0,>=2.2->keras-flops) (1.15.0)\n",
            "Requirement already satisfied: tensorboard<2.9,>=2.8 in /usr/local/lib/python3.7/dist-packages (from tensorflow<3.0,>=2.2->keras-flops) (2.8.0)\n",
            "Requirement already satisfied: wrapt>=1.11.0 in /usr/local/lib/python3.7/dist-packages (from tensorflow<3.0,>=2.2->keras-flops) (1.14.0)\n",
            "Requirement already satisfied: typing-extensions>=3.6.6 in /usr/local/lib/python3.7/dist-packages (from tensorflow<3.0,>=2.2->keras-flops) (3.10.0.2)\n",
            "Requirement already satisfied: termcolor>=1.1.0 in /usr/local/lib/python3.7/dist-packages (from tensorflow<3.0,>=2.2->keras-flops) (1.1.0)\n",
            "Requirement already satisfied: grpcio<2.0,>=1.24.3 in /usr/local/lib/python3.7/dist-packages (from tensorflow<3.0,>=2.2->keras-flops) (1.44.0)\n",
            "Requirement already satisfied: absl-py>=0.4.0 in /usr/local/lib/python3.7/dist-packages (from tensorflow<3.0,>=2.2->keras-flops) (1.0.0)\n",
            "Requirement already satisfied: opt-einsum>=2.3.2 in /usr/local/lib/python3.7/dist-packages (from tensorflow<3.0,>=2.2->keras-flops) (3.3.0)\n",
            "Requirement already satisfied: numpy>=1.20 in /usr/local/lib/python3.7/dist-packages (from tensorflow<3.0,>=2.2->keras-flops) (1.21.5)\n",
            "Requirement already satisfied: setuptools in /usr/local/lib/python3.7/dist-packages (from tensorflow<3.0,>=2.2->keras-flops) (57.4.0)\n",
            "Requirement already satisfied: google-pasta>=0.1.1 in /usr/local/lib/python3.7/dist-packages (from tensorflow<3.0,>=2.2->keras-flops) (0.2.0)\n",
            "Requirement already satisfied: gast>=0.2.1 in /usr/local/lib/python3.7/dist-packages (from tensorflow<3.0,>=2.2->keras-flops) (0.5.3)\n",
            "Requirement already satisfied: keras-preprocessing>=1.1.1 in /usr/local/lib/python3.7/dist-packages (from tensorflow<3.0,>=2.2->keras-flops) (1.1.2)\n",
            "Requirement already satisfied: wheel<1.0,>=0.23.0 in /usr/local/lib/python3.7/dist-packages (from astunparse>=1.6.0->tensorflow<3.0,>=2.2->keras-flops) (0.37.1)\n",
            "Requirement already satisfied: cached-property in /usr/local/lib/python3.7/dist-packages (from h5py>=2.9.0->tensorflow<3.0,>=2.2->keras-flops) (1.5.2)\n",
            "Requirement already satisfied: tensorboard-plugin-wit>=1.6.0 in /usr/local/lib/python3.7/dist-packages (from tensorboard<2.9,>=2.8->tensorflow<3.0,>=2.2->keras-flops) (1.8.1)\n",
            "Requirement already satisfied: tensorboard-data-server<0.7.0,>=0.6.0 in /usr/local/lib/python3.7/dist-packages (from tensorboard<2.9,>=2.8->tensorflow<3.0,>=2.2->keras-flops) (0.6.1)\n",
            "Requirement already satisfied: werkzeug>=0.11.15 in /usr/local/lib/python3.7/dist-packages (from tensorboard<2.9,>=2.8->tensorflow<3.0,>=2.2->keras-flops) (1.0.1)\n",
            "Requirement already satisfied: google-auth-oauthlib<0.5,>=0.4.1 in /usr/local/lib/python3.7/dist-packages (from tensorboard<2.9,>=2.8->tensorflow<3.0,>=2.2->keras-flops) (0.4.6)\n",
            "Requirement already satisfied: markdown>=2.6.8 in /usr/local/lib/python3.7/dist-packages (from tensorboard<2.9,>=2.8->tensorflow<3.0,>=2.2->keras-flops) (3.3.6)\n",
            "Requirement already satisfied: google-auth<3,>=1.6.3 in /usr/local/lib/python3.7/dist-packages (from tensorboard<2.9,>=2.8->tensorflow<3.0,>=2.2->keras-flops) (1.35.0)\n",
            "Requirement already satisfied: requests<3,>=2.21.0 in /usr/local/lib/python3.7/dist-packages (from tensorboard<2.9,>=2.8->tensorflow<3.0,>=2.2->keras-flops) (2.23.0)\n",
            "Requirement already satisfied: pyasn1-modules>=0.2.1 in /usr/local/lib/python3.7/dist-packages (from google-auth<3,>=1.6.3->tensorboard<2.9,>=2.8->tensorflow<3.0,>=2.2->keras-flops) (0.2.8)\n",
            "Requirement already satisfied: rsa<5,>=3.1.4 in /usr/local/lib/python3.7/dist-packages (from google-auth<3,>=1.6.3->tensorboard<2.9,>=2.8->tensorflow<3.0,>=2.2->keras-flops) (4.8)\n",
            "Requirement already satisfied: cachetools<5.0,>=2.0.0 in /usr/local/lib/python3.7/dist-packages (from google-auth<3,>=1.6.3->tensorboard<2.9,>=2.8->tensorflow<3.0,>=2.2->keras-flops) (4.2.4)\n",
            "Requirement already satisfied: requests-oauthlib>=0.7.0 in /usr/local/lib/python3.7/dist-packages (from google-auth-oauthlib<0.5,>=0.4.1->tensorboard<2.9,>=2.8->tensorflow<3.0,>=2.2->keras-flops) (1.3.1)\n",
            "Requirement already satisfied: importlib-metadata>=4.4 in /usr/local/lib/python3.7/dist-packages (from markdown>=2.6.8->tensorboard<2.9,>=2.8->tensorflow<3.0,>=2.2->keras-flops) (4.11.3)\n",
            "Requirement already satisfied: zipp>=0.5 in /usr/local/lib/python3.7/dist-packages (from importlib-metadata>=4.4->markdown>=2.6.8->tensorboard<2.9,>=2.8->tensorflow<3.0,>=2.2->keras-flops) (3.7.0)\n",
            "Requirement already satisfied: pyasn1<0.5.0,>=0.4.6 in /usr/local/lib/python3.7/dist-packages (from pyasn1-modules>=0.2.1->google-auth<3,>=1.6.3->tensorboard<2.9,>=2.8->tensorflow<3.0,>=2.2->keras-flops) (0.4.8)\n",
            "Requirement already satisfied: idna<3,>=2.5 in /usr/local/lib/python3.7/dist-packages (from requests<3,>=2.21.0->tensorboard<2.9,>=2.8->tensorflow<3.0,>=2.2->keras-flops) (2.10)\n",
            "Requirement already satisfied: certifi>=2017.4.17 in /usr/local/lib/python3.7/dist-packages (from requests<3,>=2.21.0->tensorboard<2.9,>=2.8->tensorflow<3.0,>=2.2->keras-flops) (2021.10.8)\n",
            "Requirement already satisfied: chardet<4,>=3.0.2 in /usr/local/lib/python3.7/dist-packages (from requests<3,>=2.21.0->tensorboard<2.9,>=2.8->tensorflow<3.0,>=2.2->keras-flops) (3.0.4)\n",
            "Requirement already satisfied: urllib3!=1.25.0,!=1.25.1,<1.26,>=1.21.1 in /usr/local/lib/python3.7/dist-packages (from requests<3,>=2.21.0->tensorboard<2.9,>=2.8->tensorflow<3.0,>=2.2->keras-flops) (1.24.3)\n",
            "Requirement already satisfied: oauthlib>=3.0.0 in /usr/local/lib/python3.7/dist-packages (from requests-oauthlib>=0.7.0->google-auth-oauthlib<0.5,>=0.4.1->tensorboard<2.9,>=2.8->tensorflow<3.0,>=2.2->keras-flops) (3.2.0)\n",
            "Installing collected packages: tf-estimator-nightly, keras-flops\n",
            "Successfully installed keras-flops-0.1.2 tf-estimator-nightly-2.8.0.dev2021122109\n"
          ]
        }
      ]
    },
    {
      "cell_type": "code",
      "source": [
        "flops = get_flops(cnn_model, batch_size=1)\n",
        "print(f\"FLOPs for teacher model: {flops / 10 ** 9:.03} G\")"
      ],
      "metadata": {
        "colab": {
          "base_uri": "https://localhost:8080/"
        },
        "id": "A17DTiuNnz3L",
        "outputId": "2e53a7c6-3811-439e-d855-02bceb282d4d"
      },
      "execution_count": null,
      "outputs": [
        {
          "output_type": "stream",
          "name": "stdout",
          "text": [
            "FLOPs for teacher model: 0.022 G\n"
          ]
        }
      ]
    },
    {
      "cell_type": "code",
      "source": [
        "flops = get_flops(fc_model, batch_size=1)\n",
        "print(f\"FLOPs for student model: {flops / 10 ** 9:.03} G\")"
      ],
      "metadata": {
        "colab": {
          "base_uri": "https://localhost:8080/"
        },
        "id": "STGB7Mg7n8sc",
        "outputId": "58a09e69-74a0-46c8-92fa-34d5883c769a"
      },
      "execution_count": null,
      "outputs": [
        {
          "output_type": "stream",
          "name": "stdout",
          "text": [
            "FLOPs for student model: 0.00248 G\n"
          ]
        }
      ]
    },
    {
      "cell_type": "markdown",
      "metadata": {
        "id": "8b5yNhJfRu-7"
      },
      "source": [
        "# XAI method to explain models"
      ]
    },
    {
      "cell_type": "markdown",
      "source": [
        "First we need to get thte student with optimal hyperparameters again."
      ],
      "metadata": {
        "id": "TC5UEuBn2Jua"
      }
    },
    {
      "cell_type": "code",
      "source": [
        "ALPHA = 0.5\n",
        "DISTILLATION_TEMPERATURE = 32.\n",
        "\n",
        "\n",
        "fc_model = tf.keras.Sequential()\n",
        "\n",
        "# your code start from here for step 2\n",
        "fc_model.add(Flatten(input_shape=(28, 28, 1)))\n",
        "fc_model.add(Dense(784, activation='relu'))\n",
        "fc_model.add(Dense(784, activation='relu'))\n",
        "fc_model.add(Dense(10))\n",
        "train_and_evaluate(fc_model, compute_student_loss)\n"
      ],
      "metadata": {
        "colab": {
          "base_uri": "https://localhost:8080/"
        },
        "id": "bafbz7lN2KZF",
        "outputId": "156f7496-cc22-4603-c9d6-83f5fcfc2c9d"
      },
      "execution_count": null,
      "outputs": [
        {
          "output_type": "stream",
          "name": "stdout",
          "text": [
            "Epoch 1: Class_accuracy: 96.78%\n",
            "Epoch 2: Class_accuracy: 98.01%\n",
            "Epoch 3: Class_accuracy: 98.23%\n",
            "Epoch 4: Class_accuracy: 98.52%\n",
            "Epoch 5: Class_accuracy: 98.53%\n",
            "Epoch 6: Class_accuracy: 98.60%\n",
            "Epoch 7: Class_accuracy: 98.67%\n",
            "Epoch 8: Class_accuracy: 98.69%\n",
            "Epoch 9: Class_accuracy: 98.73%\n",
            "Epoch 10: Class_accuracy: 98.70%\n",
            "Epoch 11: Class_accuracy: 98.78%\n",
            "Epoch 12: Class_accuracy: 98.81%\n"
          ]
        },
        {
          "output_type": "execute_result",
          "data": {
            "text/plain": [
              "98.81"
            ]
          },
          "metadata": {},
          "execution_count": 190
        }
      ]
    },
    {
      "cell_type": "code",
      "execution_count": null,
      "metadata": {
        "id": "yFgp5kA5RvID"
      },
      "outputs": [],
      "source": [
        "# your code start from here for step 9\n",
        "for images, labels in mnist_test:\n",
        "  sample_images = images[:1]\n",
        "  sample_labels = labels[:1]\n",
        "  break"
      ]
    },
    {
      "cell_type": "code",
      "source": [
        "sample_images.shape"
      ],
      "metadata": {
        "colab": {
          "base_uri": "https://localhost:8080/"
        },
        "id": "sxOmDc7j0W1M",
        "outputId": "87248c25-81e7-4dab-9b35-4705dde31a83"
      },
      "execution_count": null,
      "outputs": [
        {
          "output_type": "execute_result",
          "data": {
            "text/plain": [
              "TensorShape([1, 28, 28, 1])"
            ]
          },
          "metadata": {},
          "execution_count": 188
        }
      ]
    },
    {
      "cell_type": "code",
      "source": [
        "def get_gradients(input, model, pred_index):\n",
        "  image = tf.convert_to_tensor(input,dtype='float32')\n",
        "  with tf.GradientTape() as tape:\n",
        "    tape.watch(image)\n",
        "    prediction=model(image)\n",
        "    gradient = tape.gradient(prediction[:, pred_index],image)\n",
        "  return gradient\n",
        "\n",
        "def Integrated_Gradient(input, model, label, num_steps):\n",
        "  steps = np.linspace(0.,1.,num_steps+1)[1:]\n",
        "  intermediate_images = np.empty((num_steps,28,28,1))\n",
        "  for i in range(num_steps):\n",
        "    intermediate_images[i] = input * steps[i]\n",
        "  \n",
        "  gradients = get_gradients(intermediate_images, model, tf.math.argmax(label,axis=1)[0])\n",
        "  integral_gradients = tf.math.reduce_mean(gradients,axis=0) #Integral of steps is essentially the average\n",
        "  integral_gradients = input * integral_gradients\n",
        "  return integral_gradients\n",
        "\n",
        "def visualize_IG(explanation_map_IG):\n",
        "  explanation_map_IG_abs_avg = np.average(abs(explanation_map_IG),axis=2)\n",
        "  explanation_map_IG_abs_avg -= explanation_map_IG_abs_avg.min()\n",
        "  explanation_map_IG_abs_avg /= explanation_map_IG_abs_avg.max()+10e-30\n",
        "  return explanation_map_IG_abs_avg\n"
      ],
      "metadata": {
        "id": "QEgJ3BUYqf6w"
      },
      "execution_count": null,
      "outputs": []
    },
    {
      "cell_type": "code",
      "source": [
        "for i in range(20):\n",
        "  for images, labels in mnist_test:\n",
        "    sample_images = images[i:i+1]\n",
        "    sample_labels = labels[i:i+1]\n",
        "    break\n",
        "  IG_teacher = Integrated_Gradient(sample_images,cnn_model,sample_labels,50)\n",
        "  IG_student = Integrated_Gradient(sample_images,fc_model,sample_labels,50)\n",
        "  IG_student_scratch = Integrated_Gradient(sample_images,fc_model_no_distillation,sample_labels,50)\n",
        "\n",
        "  plt.figure(figsize=(20,5))\n",
        "  plt.subplot(1,4,1)\n",
        "  plt.imshow(sample_images.numpy().reshape((28,28)),cmap='gray')\n",
        "  plt.axis('off')\n",
        "  plt.title('Image')\n",
        "\n",
        "  plt.subplot(1,4,2)\n",
        "  plt.imshow(visualize_IG(IG_teacher[0]).reshape((28,28)))\n",
        "  plt.axis('off')\n",
        "  plt.title('Teacher IG Map)')\n",
        "\n",
        "  plt.subplot(1,4,3)\n",
        "  plt.imshow(visualize_IG(IG_student[0]).reshape((28,28)))\n",
        "  plt.axis('off')\n",
        "  plt.title('Student IG Map')\n",
        "\n",
        "  plt.subplot(1,4,4)\n",
        "  plt.imshow(visualize_IG(IG_student_scratch[0]).reshape((28,28)))\n",
        "  plt.axis('off')\n",
        "  plt.title('Student Scratch IG Map')\n",
        "  plt.show()"
      ],
      "metadata": {
        "colab": {
          "base_uri": "https://localhost:8080/",
          "height": 1000
        },
        "id": "j9UdaTWq6fDT",
        "outputId": "af36e301-63f3-4c88-a810-9fd1c7973fc4"
      },
      "execution_count": null,
      "outputs": [
        {
          "output_type": "display_data",
          "data": {
            "text/plain": [
              "<Figure size 1440x360 with 4 Axes>"
            ],
            "image/png": "[encoded data removed]"
          },
          "metadata": {
            "needs_background": "light"
          }
        },
        {
          "output_type": "display_data",
          "data": {
            "text/plain": [
              "<Figure size 1440x360 with 4 Axes>"
            ],
            "image/png": "[encoded data removed]"
          },
          "metadata": {
            "needs_background": "light"
          }
        },
        {
          "output_type": "display_data",
          "data": {
            "text/plain": [
              "<Figure size 1440x360 with 4 Axes>"
            ],
            "image/png": "[encoded data removed]"
          },
          "metadata": {
            "needs_background": "light"
          }
        },
        {
          "output_type": "display_data",
          "data": {
            "text/plain": [
              "<Figure size 1440x360 with 4 Axes>"
            ],
            "image/png": "[encoded data removed]"
          },
          "metadata": {
            "needs_background": "light"
          }
        },
        {
          "output_type": "display_data",
          "data": {
            "text/plain": [
              "<Figure size 1440x360 with 4 Axes>"
            ],
            "image/png": "[encoded data removed]"
          },
          "metadata": {
            "needs_background": "light"
          }
        },
        {
          "output_type": "display_data",
          "data": {
            "text/plain": [
              "<Figure size 1440x360 with 4 Axes>"
            ],
            "image/png": "[encoded data removed]"
          },
          "metadata": {
            "needs_background": "light"
          }
        },
        {
          "output_type": "display_data",
          "data": {
            "text/plain": [
              "<Figure size 1440x360 with 4 Axes>"
            ],
            "image/png": "[encoded data removed]"
          },
          "metadata": {
            "needs_background": "light"
          }
        },
        {
          "output_type": "display_data",
          "data": {
            "text/plain": [
              "<Figure size 1440x360 with 4 Axes>"
            ],
            "image/png": "[encoded data removed]"
          },
          "metadata": {
            "needs_background": "light"
          }
        },
        {
          "output_type": "display_data",
          "data": {
            "text/plain": [
              "<Figure size 1440x360 with 4 Axes>"
            ],
            "image/png": "[encoded data removed]"
          },
          "metadata": {
            "needs_background": "light"
          }
        },
        {
          "output_type": "display_data",
          "data": {
            "text/plain": [
              "<Figure size 1440x360 with 4 Axes>"
            ],
            "image/png": "[encoded data removed]"
          },
          "metadata": {
            "needs_background": "light"
          }
        },
        {
          "output_type": "display_data",
          "data": {
            "text/plain": [
              "<Figure size 1440x360 with 4 Axes>"
            ],
            "image/png": "[encoded data removed]"
          },
          "metadata": {
            "needs_background": "light"
          }
        },
        {
          "output_type": "display_data",
          "data": {
            "text/plain": [
              "<Figure size 1440x360 with 4 Axes>"
            ],
            "image/png": "[encoded data removed]"
          },
          "metadata": {
            "needs_background": "light"
          }
        },
        {
          "output_type": "display_data",
          "data": {
            "text/plain": [
              "<Figure size 1440x360 with 4 Axes>"
            ],
            "image/png": "[encoded data removed]"
          },
          "metadata": {
            "needs_background": "light"
          }
        },
        {
          "output_type": "display_data",
          "data": {
            "text/plain": [
              "<Figure size 1440x360 with 4 Axes>"
            ],
            "image/png": "[encoded data removed]"
          },
          "metadata": {
            "needs_background": "light"
          }
        },
        {
          "output_type": "display_data",
          "data": {
            "text/plain": [
              "<Figure size 1440x360 with 4 Axes>"
            ],
            "image/png": "[encoded data removed]"
          },
          "metadata": {
            "needs_background": "light"
          }
        },
        {
          "output_type": "display_data",
          "data": {
            "text/plain": [
              "<Figure size 1440x360 with 4 Axes>"
            ],
            "image/png": "[encoded data removed]"
          },
          "metadata": {
            "needs_background": "light"
          }
        },
        {
          "output_type": "display_data",
          "data": {
            "text/plain": [
              "<Figure size 1440x360 with 4 Axes>"
            ],
            "image/png": "[encoded data removed]"
          },
          "metadata": {
            "needs_background": "light"
          }
        },
        {
          "output_type": "display_data",
          "data": {
            "text/plain": [
              "<Figure size 1440x360 with 4 Axes>"
            ],
            "image/png": "[encoded data removed]"
          },
          "metadata": {
            "needs_background": "light"
          }
        },
        {
          "output_type": "display_data",
          "data": {
            "text/plain": [
              "<Figure size 1440x360 with 4 Axes>"
            ],
            "image/png": "[encoded data removed]"
          },
          "metadata": {
            "needs_background": "light"
          }
        },
        {
          "output_type": "display_data",
          "data": {
            "text/plain": [
              "<Figure size 1440x360 with 4 Axes>"
            ],
            "image/png": "[encoded data removed]"
          },
          "metadata": {
            "needs_background": "light"
          }
        }
      ]
    },
    {
      "cell_type": "markdown",
      "metadata": {
        "id": "KjwJ5oziRvRn"
      },
      "source": [
        "# Implementing the state-of-the-art KD algorithm"
      ]
    },
    {
      "cell_type": "markdown",
      "source": [
        "KD Algorithm: Teacher Assistant"
      ],
      "metadata": {
        "id": "ExtMZMTXoZIO"
      }
    },
    {
      "cell_type": "code",
      "source": [
        "# build the teacher again\n",
        "train_and_evaluate(cnn_model, compute_teacher_loss)"
      ],
      "metadata": {
        "colab": {
          "base_uri": "https://localhost:8080/"
        },
        "id": "XODkCRFporxo",
        "outputId": "8b51a30c-9b15-48da-9cd3-827af5d49515"
      },
      "execution_count": null,
      "outputs": [
        {
          "output_type": "stream",
          "name": "stdout",
          "text": [
            "Epoch 1: Class_accuracy: 98.36%\n",
            "Epoch 2: Class_accuracy: 98.69%\n",
            "Epoch 3: Class_accuracy: 98.77%\n",
            "Epoch 4: Class_accuracy: 98.99%\n",
            "Epoch 5: Class_accuracy: 98.99%\n",
            "Epoch 6: Class_accuracy: 99.15%\n",
            "Epoch 7: Class_accuracy: 99.11%\n",
            "Epoch 8: Class_accuracy: 99.17%\n",
            "Epoch 9: Class_accuracy: 99.02%\n",
            "Epoch 10: Class_accuracy: 99.11%\n",
            "Epoch 11: Class_accuracy: 99.03%\n",
            "Epoch 12: Class_accuracy: 99.15%\n"
          ]
        },
        {
          "output_type": "execute_result",
          "data": {
            "text/plain": [
              "99.15"
            ]
          },
          "metadata": {},
          "execution_count": 29
        }
      ]
    },
    {
      "cell_type": "code",
      "source": [
        "#@test {\"output\": \"ignore\"}\n",
        "\n",
        "# Hyperparameters for distillation (need to be tuned).\n",
        "ALPHA = 0.5 # task balance between cross-entropy and distillation loss\n",
        "DISTILLATION_TEMPERATURE = 16. #temperature hyperparameter\n",
        "\n",
        "def compute_ta_loss(images, labels):\n",
        "\n",
        "  ta_subclass_logits = ta_model(images, training=True)\n",
        "\n",
        "  teacher_subclass_logits = cnn_model(images, training=False)\n",
        "  distillation_loss_value = distillation_loss(teacher_subclass_logits, ta_subclass_logits, DISTILLATION_TEMPERATURE)\n",
        "\n",
        "  cross_entropy_loss_value = tf.reduce_mean(tf.nn.softmax_cross_entropy_with_logits(labels, ta_subclass_logits))\n",
        "\n",
        "  return ALPHA * distillation_loss_value + (1 - ALPHA) * cross_entropy_loss_value"
      ],
      "metadata": {
        "id": "EUJwP1vPpjRY"
      },
      "execution_count": null,
      "outputs": []
    },
    {
      "cell_type": "code",
      "execution_count": null,
      "metadata": {
        "id": "q10lybAFRvZt"
      },
      "outputs": [],
      "source": [
        "ta_model = tf.keras.Sequential()\n",
        "\n",
        "ta_model.add(Conv2D(filters=32, kernel_size=(3,3), strides=1, input_shape=(28, 28, 1), activation='relu'))\n",
        "ta_model.add(MaxPooling2D(pool_size=(2,2), strides=1))\n",
        "ta_model.add(Flatten())\n",
        "ta_model.add(Dropout(rate=0.5))\n",
        "ta_model.add(Dense(128, activation='relu'))\n",
        "ta_model.add(Dropout(rate=0.5))\n",
        "ta_model.add(Dense(10))"
      ]
    },
    {
      "cell_type": "code",
      "source": [
        "train_and_evaluate(ta_model,compute_ta_loss)"
      ],
      "metadata": {
        "colab": {
          "base_uri": "https://localhost:8080/"
        },
        "id": "UXXa_tNWoyLs",
        "outputId": "955d9db1-26ea-43c0-bb71-0ae28820409a"
      },
      "execution_count": null,
      "outputs": [
        {
          "output_type": "stream",
          "name": "stdout",
          "text": [
            "Epoch 1: Class_accuracy: 96.75%\n",
            "Epoch 2: Class_accuracy: 97.71%\n",
            "Epoch 3: Class_accuracy: 98.05%\n",
            "Epoch 4: Class_accuracy: 98.09%\n",
            "Epoch 5: Class_accuracy: 98.24%\n",
            "Epoch 6: Class_accuracy: 98.32%\n",
            "Epoch 7: Class_accuracy: 98.22%\n",
            "Epoch 8: Class_accuracy: 98.33%\n",
            "Epoch 9: Class_accuracy: 98.47%\n",
            "Epoch 10: Class_accuracy: 98.37%\n",
            "Epoch 11: Class_accuracy: 98.39%\n",
            "Epoch 12: Class_accuracy: 98.51%\n"
          ]
        },
        {
          "output_type": "execute_result",
          "data": {
            "text/plain": [
              "98.509995"
            ]
          },
          "metadata": {},
          "execution_count": 37
        }
      ]
    },
    {
      "cell_type": "markdown",
      "source": [
        "## Tune temperature"
      ],
      "metadata": {
        "id": "K4NKuNmXtsXF"
      }
    },
    {
      "cell_type": "code",
      "source": [
        "DISTILLATION_TEMPERATURE = 16\n",
        "\n",
        "accuracy_ta = []\n",
        "\n",
        "for i in range(5):\n",
        "  print(\"Training: %d/5\" % (i))\n",
        "  ta_model = tf.keras.Sequential()\n",
        "\n",
        "  ta_model.add(Conv2D(filters=32, kernel_size=(3,3), strides=1, input_shape=(28, 28, 1), activation='relu'))\n",
        "  ta_model.add(MaxPooling2D(pool_size=(2,2), strides=1))\n",
        "  ta_model.add(Flatten())\n",
        "  ta_model.add(Dropout(rate=0.5))\n",
        "  ta_model.add(Dense(128, activation='relu'))\n",
        "  ta_model.add(Dropout(rate=0.5))\n",
        "  ta_model.add(Dense(10))\n",
        "  accuracy_ta.append(train_and_evaluate(ta_model, compute_ta_loss))\n",
        "\n",
        "print(\"Average Final Test Accuracy: %f\" % (np.mean(accuracy_ta)))\n",
        "print(\"\")\n"
      ],
      "metadata": {
        "colab": {
          "base_uri": "https://localhost:8080/"
        },
        "id": "TeIkHYhltuJj",
        "outputId": "84854fe0-597d-4cf5-857a-e85efdce11cf"
      },
      "execution_count": null,
      "outputs": [
        {
          "output_type": "stream",
          "name": "stdout",
          "text": [
            "Training: 0/5\n",
            "Epoch 1: Class_accuracy: 96.91%\n",
            "Epoch 2: Class_accuracy: 97.94%\n",
            "Epoch 3: Class_accuracy: 98.07%\n",
            "Epoch 4: Class_accuracy: 98.09%\n",
            "Epoch 5: Class_accuracy: 98.29%\n",
            "Epoch 6: Class_accuracy: 98.32%\n",
            "Epoch 7: Class_accuracy: 98.33%\n",
            "Epoch 8: Class_accuracy: 98.32%\n",
            "Epoch 9: Class_accuracy: 98.37%\n",
            "Epoch 10: Class_accuracy: 98.42%\n",
            "Epoch 11: Class_accuracy: 98.40%\n",
            "Epoch 12: Class_accuracy: 98.40%\n",
            "Training: 1/5\n",
            "Epoch 1: Class_accuracy: 96.91%\n",
            "Epoch 2: Class_accuracy: 97.87%\n",
            "Epoch 3: Class_accuracy: 98.08%\n",
            "Epoch 4: Class_accuracy: 98.30%\n",
            "Epoch 5: Class_accuracy: 98.23%\n",
            "Epoch 6: Class_accuracy: 98.30%\n",
            "Epoch 7: Class_accuracy: 98.27%\n",
            "Epoch 8: Class_accuracy: 98.40%\n",
            "Epoch 9: Class_accuracy: 98.40%\n",
            "Epoch 10: Class_accuracy: 98.41%\n",
            "Epoch 11: Class_accuracy: 98.44%\n",
            "Epoch 12: Class_accuracy: 98.50%\n",
            "Training: 2/5\n",
            "Epoch 1: Class_accuracy: 96.91%\n",
            "Epoch 2: Class_accuracy: 97.80%\n",
            "Epoch 3: Class_accuracy: 98.04%\n",
            "Epoch 4: Class_accuracy: 98.19%\n",
            "Epoch 5: Class_accuracy: 98.19%\n",
            "Epoch 6: Class_accuracy: 98.31%\n",
            "Epoch 7: Class_accuracy: 98.28%\n",
            "Epoch 8: Class_accuracy: 98.32%\n",
            "Epoch 9: Class_accuracy: 98.35%\n",
            "Epoch 10: Class_accuracy: 98.39%\n",
            "Epoch 11: Class_accuracy: 98.41%\n",
            "Epoch 12: Class_accuracy: 98.45%\n",
            "Training: 3/5\n",
            "Epoch 1: Class_accuracy: 96.68%\n",
            "Epoch 2: Class_accuracy: 97.82%\n",
            "Epoch 3: Class_accuracy: 97.91%\n",
            "Epoch 4: Class_accuracy: 98.16%\n",
            "Epoch 5: Class_accuracy: 98.23%\n",
            "Epoch 6: Class_accuracy: 98.30%\n",
            "Epoch 7: Class_accuracy: 98.30%\n",
            "Epoch 8: Class_accuracy: 98.37%\n",
            "Epoch 9: Class_accuracy: 98.38%\n",
            "Epoch 10: Class_accuracy: 98.44%\n",
            "Epoch 11: Class_accuracy: 98.44%\n",
            "Epoch 12: Class_accuracy: 98.49%\n",
            "Training: 4/5\n",
            "Epoch 1: Class_accuracy: 96.85%\n",
            "Epoch 2: Class_accuracy: 97.80%\n",
            "Epoch 3: Class_accuracy: 98.03%\n",
            "Epoch 4: Class_accuracy: 98.06%\n",
            "Epoch 5: Class_accuracy: 98.20%\n",
            "Epoch 6: Class_accuracy: 98.20%\n",
            "Epoch 7: Class_accuracy: 98.32%\n",
            "Epoch 8: Class_accuracy: 98.43%\n",
            "Epoch 9: Class_accuracy: 98.43%\n",
            "Epoch 10: Class_accuracy: 98.43%\n",
            "Epoch 11: Class_accuracy: 98.42%\n",
            "Epoch 12: Class_accuracy: 98.44%\n",
            "Average Final Test Accuracy: 98.455994\n",
            "\n"
          ]
        }
      ]
    },
    {
      "cell_type": "code",
      "source": [
        "DISTILLATION_TEMPERATURE = 32\n",
        "\n",
        "accuracy_ta = []\n",
        "\n",
        "for i in range(5):\n",
        "  print(\"Training: %d/5\" % (i))\n",
        "  ta_model = tf.keras.Sequential()\n",
        "\n",
        "  ta_model.add(Conv2D(filters=32, kernel_size=(3,3), strides=1, input_shape=(28, 28, 1), activation='relu'))\n",
        "  ta_model.add(MaxPooling2D(pool_size=(2,2), strides=1))\n",
        "  ta_model.add(Flatten())\n",
        "  ta_model.add(Dropout(rate=0.5))\n",
        "  ta_model.add(Dense(128, activation='relu'))\n",
        "  ta_model.add(Dropout(rate=0.5))\n",
        "  ta_model.add(Dense(10))\n",
        "  accuracy_ta.append(train_and_evaluate(ta_model, compute_ta_loss))\n",
        "\n",
        "print(\"Average Final Test Accuracy: %f\" % (np.mean(accuracy_ta)))\n",
        "print(\"\")\n"
      ],
      "metadata": {
        "colab": {
          "base_uri": "https://localhost:8080/"
        },
        "id": "RJ4JBUQduDJG",
        "outputId": "c588b723-10ac-4b9d-af05-d6b48dfca806"
      },
      "execution_count": null,
      "outputs": [
        {
          "output_type": "stream",
          "name": "stdout",
          "text": [
            "Training: 0/5\n",
            "Epoch 1: Class_accuracy: 96.72%\n",
            "Epoch 2: Class_accuracy: 97.80%\n",
            "Epoch 3: Class_accuracy: 98.00%\n",
            "Epoch 4: Class_accuracy: 98.13%\n",
            "Epoch 5: Class_accuracy: 98.22%\n",
            "Epoch 6: Class_accuracy: 98.19%\n",
            "Epoch 7: Class_accuracy: 98.30%\n",
            "Epoch 8: Class_accuracy: 98.33%\n",
            "Epoch 9: Class_accuracy: 98.36%\n",
            "Epoch 10: Class_accuracy: 98.34%\n",
            "Epoch 11: Class_accuracy: 98.46%\n",
            "Epoch 12: Class_accuracy: 98.49%\n",
            "Training: 1/5\n",
            "Epoch 1: Class_accuracy: 96.89%\n",
            "Epoch 2: Class_accuracy: 97.86%\n",
            "Epoch 3: Class_accuracy: 97.97%\n",
            "Epoch 4: Class_accuracy: 98.25%\n",
            "Epoch 5: Class_accuracy: 98.14%\n",
            "Epoch 6: Class_accuracy: 98.29%\n",
            "Epoch 7: Class_accuracy: 98.37%\n",
            "Epoch 8: Class_accuracy: 98.40%\n",
            "Epoch 9: Class_accuracy: 98.35%\n",
            "Epoch 10: Class_accuracy: 98.46%\n",
            "Epoch 11: Class_accuracy: 98.41%\n",
            "Epoch 12: Class_accuracy: 98.51%\n",
            "Training: 2/5\n",
            "Epoch 1: Class_accuracy: 97.25%\n",
            "Epoch 2: Class_accuracy: 97.90%\n",
            "Epoch 3: Class_accuracy: 98.03%\n",
            "Epoch 4: Class_accuracy: 98.13%\n",
            "Epoch 5: Class_accuracy: 98.24%\n",
            "Epoch 6: Class_accuracy: 98.19%\n",
            "Epoch 7: Class_accuracy: 98.32%\n",
            "Epoch 8: Class_accuracy: 98.31%\n",
            "Epoch 9: Class_accuracy: 98.38%\n",
            "Epoch 10: Class_accuracy: 98.41%\n",
            "Epoch 11: Class_accuracy: 98.48%\n",
            "Epoch 12: Class_accuracy: 98.39%\n",
            "Training: 3/5\n",
            "Epoch 1: Class_accuracy: 96.97%\n",
            "Epoch 2: Class_accuracy: 97.80%\n",
            "Epoch 3: Class_accuracy: 97.87%\n",
            "Epoch 4: Class_accuracy: 98.25%\n",
            "Epoch 5: Class_accuracy: 98.28%\n",
            "Epoch 6: Class_accuracy: 98.35%\n",
            "Epoch 7: Class_accuracy: 98.40%\n",
            "Epoch 8: Class_accuracy: 98.39%\n",
            "Epoch 9: Class_accuracy: 98.30%\n",
            "Epoch 10: Class_accuracy: 98.38%\n",
            "Epoch 11: Class_accuracy: 98.35%\n",
            "Epoch 12: Class_accuracy: 98.40%\n",
            "Training: 4/5\n",
            "Epoch 1: Class_accuracy: 97.25%\n",
            "Epoch 2: Class_accuracy: 97.91%\n",
            "Epoch 3: Class_accuracy: 98.19%\n",
            "Epoch 4: Class_accuracy: 98.21%\n",
            "Epoch 5: Class_accuracy: 98.33%\n",
            "Epoch 6: Class_accuracy: 98.33%\n",
            "Epoch 7: Class_accuracy: 98.41%\n",
            "Epoch 8: Class_accuracy: 98.50%\n",
            "Epoch 9: Class_accuracy: 98.45%\n",
            "Epoch 10: Class_accuracy: 98.47%\n",
            "Epoch 11: Class_accuracy: 98.47%\n",
            "Epoch 12: Class_accuracy: 98.49%\n",
            "Average Final Test Accuracy: 98.456001\n",
            "\n"
          ]
        }
      ]
    },
    {
      "cell_type": "code",
      "source": [
        "def compute_student_ta_loss(images, labels):\n",
        "\n",
        "  student_ta_subclass_logits = fc_model(images, training=True)\n",
        "\n",
        "  teacher_subclass_logits = ta_model(images, training=False)\n",
        "  distillation_loss_value = distillation_loss(teacher_subclass_logits, student_ta_subclass_logits, DISTILLATION_TEMPERATURE)\n",
        "\n",
        "  cross_entropy_loss_value = tf.reduce_mean(tf.nn.softmax_cross_entropy_with_logits(labels, student_ta_subclass_logits))\n",
        "\n",
        "  return ALPHA * distillation_loss_value + (1 - ALPHA) * cross_entropy_loss_value"
      ],
      "metadata": {
        "id": "v8IgKxsOqayO"
      },
      "execution_count": null,
      "outputs": []
    },
    {
      "cell_type": "code",
      "source": [
        "DISTILLATION_TEMPERATURE = 16\n",
        "accuracy_student = []\n",
        "\n",
        "for i in range(5):\n",
        "  print(\"Training: %d/5\" % (i))\n",
        "  fc_model = tf.keras.Sequential()\n",
        "\n",
        "  fc_model.add(Flatten(input_shape=(28, 28, 1)))\n",
        "  fc_model.add(Dense(784, activation='relu'))\n",
        "  fc_model.add(Dense(784, activation='relu'))\n",
        "  fc_model.add(Dense(10))\n",
        "  accuracy_student.append(train_and_evaluate(fc_model, compute_student_ta_loss))\n",
        "\n",
        "print(\"Average Final Test Accuracy: %f\" % (np.mean(accuracy_student)))\n",
        "print(\"\")"
      ],
      "metadata": {
        "colab": {
          "base_uri": "https://localhost:8080/"
        },
        "id": "p-9NJJC4p5bP",
        "outputId": "3d0a5e48-bf26-48cb-c68c-b716f60bc5fa"
      },
      "execution_count": 45,
      "outputs": [
        {
          "output_type": "stream",
          "name": "stdout",
          "text": [
            "Training: 0/5\n",
            "Epoch 1: Class_accuracy: 96.53%\n",
            "Epoch 2: Class_accuracy: 97.56%\n",
            "Epoch 3: Class_accuracy: 97.91%\n",
            "Epoch 4: Class_accuracy: 98.04%\n",
            "Epoch 5: Class_accuracy: 98.23%\n",
            "Epoch 6: Class_accuracy: 98.14%\n",
            "Epoch 7: Class_accuracy: 98.30%\n",
            "Epoch 8: Class_accuracy: 98.31%\n",
            "Epoch 9: Class_accuracy: 98.30%\n",
            "Epoch 10: Class_accuracy: 98.43%\n",
            "Epoch 11: Class_accuracy: 98.36%\n",
            "Epoch 12: Class_accuracy: 98.37%\n",
            "Training: 1/5\n",
            "Epoch 1: Class_accuracy: 96.35%\n",
            "Epoch 2: Class_accuracy: 97.49%\n",
            "Epoch 3: Class_accuracy: 97.80%\n",
            "Epoch 4: Class_accuracy: 98.02%\n",
            "Epoch 5: Class_accuracy: 98.00%\n",
            "Epoch 6: Class_accuracy: 98.12%\n",
            "Epoch 7: Class_accuracy: 98.15%\n",
            "Epoch 8: Class_accuracy: 98.27%\n",
            "Epoch 9: Class_accuracy: 98.20%\n",
            "Epoch 10: Class_accuracy: 98.29%\n",
            "Epoch 11: Class_accuracy: 98.33%\n",
            "Epoch 12: Class_accuracy: 98.32%\n",
            "Training: 2/5\n",
            "Epoch 1: Class_accuracy: 96.49%\n",
            "Epoch 2: Class_accuracy: 97.36%\n",
            "Epoch 3: Class_accuracy: 97.70%\n",
            "Epoch 4: Class_accuracy: 97.97%\n",
            "Epoch 5: Class_accuracy: 98.11%\n",
            "Epoch 6: Class_accuracy: 98.21%\n",
            "Epoch 7: Class_accuracy: 98.19%\n",
            "Epoch 8: Class_accuracy: 98.33%\n",
            "Epoch 9: Class_accuracy: 98.28%\n",
            "Epoch 10: Class_accuracy: 98.35%\n",
            "Epoch 11: Class_accuracy: 98.31%\n",
            "Epoch 12: Class_accuracy: 98.39%\n",
            "Training: 3/5\n",
            "Epoch 1: Class_accuracy: 96.52%\n",
            "Epoch 2: Class_accuracy: 97.57%\n",
            "Epoch 3: Class_accuracy: 97.77%\n",
            "Epoch 4: Class_accuracy: 98.04%\n",
            "Epoch 5: Class_accuracy: 98.09%\n",
            "Epoch 6: Class_accuracy: 98.13%\n",
            "Epoch 7: Class_accuracy: 98.24%\n",
            "Epoch 8: Class_accuracy: 98.24%\n",
            "Epoch 9: Class_accuracy: 98.26%\n",
            "Epoch 10: Class_accuracy: 98.34%\n",
            "Epoch 11: Class_accuracy: 98.36%\n",
            "Epoch 12: Class_accuracy: 98.39%\n",
            "Training: 4/5\n",
            "Epoch 1: Class_accuracy: 96.36%\n",
            "Epoch 2: Class_accuracy: 97.46%\n",
            "Epoch 3: Class_accuracy: 97.65%\n",
            "Epoch 4: Class_accuracy: 97.91%\n",
            "Epoch 5: Class_accuracy: 98.09%\n",
            "Epoch 6: Class_accuracy: 98.22%\n",
            "Epoch 7: Class_accuracy: 98.27%\n",
            "Epoch 8: Class_accuracy: 98.34%\n",
            "Epoch 9: Class_accuracy: 98.38%\n",
            "Epoch 10: Class_accuracy: 98.37%\n",
            "Epoch 11: Class_accuracy: 98.35%\n",
            "Epoch 12: Class_accuracy: 98.35%\n",
            "Average Final Test Accuracy: 98.364006\n",
            "\n"
          ]
        }
      ]
    },
    {
      "cell_type": "code",
      "source": [
        "DISTILLATION_TEMPERATURE = 32\n",
        "accuracy_student = []\n",
        "\n",
        "for i in range(5):\n",
        "  print(\"Training: %d/5\" % (i))\n",
        "  fc_model = tf.keras.Sequential()\n",
        "\n",
        "  fc_model.add(Flatten(input_shape=(28, 28, 1)))\n",
        "  fc_model.add(Dense(784, activation='relu'))\n",
        "  fc_model.add(Dense(784, activation='relu'))\n",
        "  fc_model.add(Dense(10))\n",
        "  accuracy_student.append(train_and_evaluate(fc_model, compute_student_ta_loss))\n",
        "\n",
        "print(\"Average Final Test Accuracy: %f\" % (np.mean(accuracy_student)))\n",
        "print(\"\")"
      ],
      "metadata": {
        "id": "G1SssieYzYNf",
        "colab": {
          "base_uri": "https://localhost:8080/"
        },
        "outputId": "38a75212-0ad5-42f8-f34d-d24746de1d37"
      },
      "execution_count": 46,
      "outputs": [
        {
          "output_type": "stream",
          "name": "stdout",
          "text": [
            "Training: 0/5\n",
            "Epoch 1: Class_accuracy: 96.60%\n",
            "Epoch 2: Class_accuracy: 97.50%\n",
            "Epoch 3: Class_accuracy: 97.75%\n",
            "Epoch 4: Class_accuracy: 97.97%\n",
            "Epoch 5: Class_accuracy: 98.17%\n",
            "Epoch 6: Class_accuracy: 98.22%\n",
            "Epoch 7: Class_accuracy: 98.22%\n",
            "Epoch 8: Class_accuracy: 98.33%\n",
            "Epoch 9: Class_accuracy: 98.36%\n",
            "Epoch 10: Class_accuracy: 98.46%\n",
            "Epoch 11: Class_accuracy: 98.35%\n",
            "Epoch 12: Class_accuracy: 98.39%\n",
            "Training: 1/5\n",
            "Epoch 1: Class_accuracy: 96.61%\n",
            "Epoch 2: Class_accuracy: 97.29%\n",
            "Epoch 3: Class_accuracy: 97.87%\n",
            "Epoch 4: Class_accuracy: 98.00%\n",
            "Epoch 5: Class_accuracy: 98.09%\n",
            "Epoch 6: Class_accuracy: 98.14%\n",
            "Epoch 7: Class_accuracy: 98.18%\n",
            "Epoch 8: Class_accuracy: 98.21%\n",
            "Epoch 9: Class_accuracy: 98.27%\n",
            "Epoch 10: Class_accuracy: 98.26%\n",
            "Epoch 11: Class_accuracy: 98.31%\n",
            "Epoch 12: Class_accuracy: 98.34%\n",
            "Training: 2/5\n",
            "Epoch 1: Class_accuracy: 96.52%\n",
            "Epoch 2: Class_accuracy: 97.34%\n",
            "Epoch 3: Class_accuracy: 97.83%\n",
            "Epoch 4: Class_accuracy: 98.07%\n",
            "Epoch 5: Class_accuracy: 98.17%\n",
            "Epoch 6: Class_accuracy: 98.17%\n",
            "Epoch 7: Class_accuracy: 98.34%\n",
            "Epoch 8: Class_accuracy: 98.34%\n",
            "Epoch 9: Class_accuracy: 98.31%\n",
            "Epoch 10: Class_accuracy: 98.32%\n",
            "Epoch 11: Class_accuracy: 98.39%\n",
            "Epoch 12: Class_accuracy: 98.37%\n",
            "Training: 3/5\n",
            "Epoch 1: Class_accuracy: 96.52%\n",
            "Epoch 2: Class_accuracy: 97.48%\n",
            "Epoch 3: Class_accuracy: 97.94%\n",
            "Epoch 4: Class_accuracy: 97.97%\n",
            "Epoch 5: Class_accuracy: 98.21%\n",
            "Epoch 6: Class_accuracy: 98.33%\n",
            "Epoch 7: Class_accuracy: 98.33%\n",
            "Epoch 8: Class_accuracy: 98.34%\n",
            "Epoch 9: Class_accuracy: 98.39%\n",
            "Epoch 10: Class_accuracy: 98.42%\n",
            "Epoch 11: Class_accuracy: 98.41%\n",
            "Epoch 12: Class_accuracy: 98.35%\n",
            "Training: 4/5\n",
            "Epoch 1: Class_accuracy: 96.74%\n",
            "Epoch 2: Class_accuracy: 97.57%\n",
            "Epoch 3: Class_accuracy: 97.92%\n",
            "Epoch 4: Class_accuracy: 98.03%\n",
            "Epoch 5: Class_accuracy: 98.22%\n",
            "Epoch 6: Class_accuracy: 98.26%\n",
            "Epoch 7: Class_accuracy: 98.44%\n",
            "Epoch 8: Class_accuracy: 98.39%\n",
            "Epoch 9: Class_accuracy: 98.44%\n",
            "Epoch 10: Class_accuracy: 98.44%\n",
            "Epoch 11: Class_accuracy: 98.52%\n",
            "Epoch 12: Class_accuracy: 98.50%\n",
            "Average Final Test Accuracy: 98.389999\n",
            "\n"
          ]
        }
      ]
    },
    {
      "cell_type": "code",
      "source": [
        "ta_model.summary()"
      ],
      "metadata": {
        "colab": {
          "base_uri": "https://localhost:8080/"
        },
        "id": "VJYq2oeXrq8C",
        "outputId": "ad4d8819-1afd-4a02-952e-28e8e3c0cea2"
      },
      "execution_count": null,
      "outputs": [
        {
          "output_type": "stream",
          "name": "stdout",
          "text": [
            "Model: \"sequential_1\"\n",
            "_________________________________________________________________\n",
            " Layer (type)                Output Shape              Param #   \n",
            "=================================================================\n",
            " conv2d (Conv2D)             (None, 26, 26, 32)        320       \n",
            "                                                                 \n",
            " max_pooling2d (MaxPooling2D  (None, 25, 25, 32)       0         \n",
            " )                                                               \n",
            "                                                                 \n",
            " flatten_1 (Flatten)         (None, 20000)             0         \n",
            "                                                                 \n",
            " dropout (Dropout)           (None, 20000)             0         \n",
            "                                                                 \n",
            " dense_3 (Dense)             (None, 128)               2560128   \n",
            "                                                                 \n",
            " dropout_1 (Dropout)         (None, 128)               0         \n",
            "                                                                 \n",
            " dense_4 (Dense)             (None, 10)                1290      \n",
            "                                                                 \n",
            "=================================================================\n",
            "Total params: 2,561,738\n",
            "Trainable params: 2,561,738\n",
            "Non-trainable params: 0\n",
            "_________________________________________________________________\n"
          ]
        }
      ]
    },
    {
      "cell_type": "code",
      "source": [
        "flops = get_flops(ta_model, batch_size=1)"
      ],
      "metadata": {
        "id": "xHLfK2XQqIEf"
      },
      "execution_count": 47,
      "outputs": []
    },
    {
      "cell_type": "code",
      "source": [
        "!pip install keras-flops\n",
        "from keras_flops import get_flops"
      ],
      "metadata": {
        "colab": {
          "base_uri": "https://localhost:8080/"
        },
        "id": "-Pd1cCORq2sD",
        "outputId": "56cdc436-9e30-4f8d-e6c8-98cb25c60a8a"
      },
      "execution_count": null,
      "outputs": [
        {
          "output_type": "stream",
          "name": "stdout",
          "text": [
            "Requirement already satisfied: keras-flops in /usr/local/lib/python3.7/dist-packages (0.1.2)\n",
            "Requirement already satisfied: tensorflow<3.0,>=2.2 in /usr/local/lib/python3.7/dist-packages (from keras-flops) (2.8.0)\n",
            "Requirement already satisfied: protobuf>=3.9.2 in /usr/local/lib/python3.7/dist-packages (from tensorflow<3.0,>=2.2->keras-flops) (3.17.3)\n",
            "Requirement already satisfied: numpy>=1.20 in /usr/local/lib/python3.7/dist-packages (from tensorflow<3.0,>=2.2->keras-flops) (1.21.5)\n",
            "Requirement already satisfied: astunparse>=1.6.0 in /usr/local/lib/python3.7/dist-packages (from tensorflow<3.0,>=2.2->keras-flops) (1.6.3)\n",
            "Requirement already satisfied: typing-extensions>=3.6.6 in /usr/local/lib/python3.7/dist-packages (from tensorflow<3.0,>=2.2->keras-flops) (3.10.0.2)\n",
            "Requirement already satisfied: google-pasta>=0.1.1 in /usr/local/lib/python3.7/dist-packages (from tensorflow<3.0,>=2.2->keras-flops) (0.2.0)\n",
            "Requirement already satisfied: termcolor>=1.1.0 in /usr/local/lib/python3.7/dist-packages (from tensorflow<3.0,>=2.2->keras-flops) (1.1.0)\n",
            "Requirement already satisfied: h5py>=2.9.0 in /usr/local/lib/python3.7/dist-packages (from tensorflow<3.0,>=2.2->keras-flops) (3.1.0)\n",
            "Requirement already satisfied: libclang>=9.0.1 in /usr/local/lib/python3.7/dist-packages (from tensorflow<3.0,>=2.2->keras-flops) (13.0.0)\n",
            "Requirement already satisfied: six>=1.12.0 in /usr/local/lib/python3.7/dist-packages (from tensorflow<3.0,>=2.2->keras-flops) (1.15.0)\n",
            "Requirement already satisfied: keras-preprocessing>=1.1.1 in /usr/local/lib/python3.7/dist-packages (from tensorflow<3.0,>=2.2->keras-flops) (1.1.2)\n",
            "Requirement already satisfied: setuptools in /usr/local/lib/python3.7/dist-packages (from tensorflow<3.0,>=2.2->keras-flops) (57.4.0)\n",
            "Requirement already satisfied: tf-estimator-nightly==2.8.0.dev2021122109 in /usr/local/lib/python3.7/dist-packages (from tensorflow<3.0,>=2.2->keras-flops) (2.8.0.dev2021122109)\n",
            "Requirement already satisfied: tensorboard<2.9,>=2.8 in /usr/local/lib/python3.7/dist-packages (from tensorflow<3.0,>=2.2->keras-flops) (2.8.0)\n",
            "Requirement already satisfied: keras<2.9,>=2.8.0rc0 in /usr/local/lib/python3.7/dist-packages (from tensorflow<3.0,>=2.2->keras-flops) (2.8.0)\n",
            "Requirement already satisfied: flatbuffers>=1.12 in /usr/local/lib/python3.7/dist-packages (from tensorflow<3.0,>=2.2->keras-flops) (2.0)\n",
            "Requirement already satisfied: absl-py>=0.4.0 in /usr/local/lib/python3.7/dist-packages (from tensorflow<3.0,>=2.2->keras-flops) (1.0.0)\n",
            "Requirement already satisfied: wrapt>=1.11.0 in /usr/local/lib/python3.7/dist-packages (from tensorflow<3.0,>=2.2->keras-flops) (1.14.0)\n",
            "Requirement already satisfied: opt-einsum>=2.3.2 in /usr/local/lib/python3.7/dist-packages (from tensorflow<3.0,>=2.2->keras-flops) (3.3.0)\n",
            "Requirement already satisfied: grpcio<2.0,>=1.24.3 in /usr/local/lib/python3.7/dist-packages (from tensorflow<3.0,>=2.2->keras-flops) (1.44.0)\n",
            "Requirement already satisfied: gast>=0.2.1 in /usr/local/lib/python3.7/dist-packages (from tensorflow<3.0,>=2.2->keras-flops) (0.5.3)\n",
            "Requirement already satisfied: tensorflow-io-gcs-filesystem>=0.23.1 in /usr/local/lib/python3.7/dist-packages (from tensorflow<3.0,>=2.2->keras-flops) (0.24.0)\n",
            "Requirement already satisfied: wheel<1.0,>=0.23.0 in /usr/local/lib/python3.7/dist-packages (from astunparse>=1.6.0->tensorflow<3.0,>=2.2->keras-flops) (0.37.1)\n",
            "Requirement already satisfied: cached-property in /usr/local/lib/python3.7/dist-packages (from h5py>=2.9.0->tensorflow<3.0,>=2.2->keras-flops) (1.5.2)\n",
            "Requirement already satisfied: google-auth<3,>=1.6.3 in /usr/local/lib/python3.7/dist-packages (from tensorboard<2.9,>=2.8->tensorflow<3.0,>=2.2->keras-flops) (1.35.0)\n",
            "Requirement already satisfied: requests<3,>=2.21.0 in /usr/local/lib/python3.7/dist-packages (from tensorboard<2.9,>=2.8->tensorflow<3.0,>=2.2->keras-flops) (2.23.0)\n",
            "Requirement already satisfied: google-auth-oauthlib<0.5,>=0.4.1 in /usr/local/lib/python3.7/dist-packages (from tensorboard<2.9,>=2.8->tensorflow<3.0,>=2.2->keras-flops) (0.4.6)\n",
            "Requirement already satisfied: tensorboard-data-server<0.7.0,>=0.6.0 in /usr/local/lib/python3.7/dist-packages (from tensorboard<2.9,>=2.8->tensorflow<3.0,>=2.2->keras-flops) (0.6.1)\n",
            "Requirement already satisfied: markdown>=2.6.8 in /usr/local/lib/python3.7/dist-packages (from tensorboard<2.9,>=2.8->tensorflow<3.0,>=2.2->keras-flops) (3.3.6)\n",
            "Requirement already satisfied: werkzeug>=0.11.15 in /usr/local/lib/python3.7/dist-packages (from tensorboard<2.9,>=2.8->tensorflow<3.0,>=2.2->keras-flops) (1.0.1)\n",
            "Requirement already satisfied: tensorboard-plugin-wit>=1.6.0 in /usr/local/lib/python3.7/dist-packages (from tensorboard<2.9,>=2.8->tensorflow<3.0,>=2.2->keras-flops) (1.8.1)\n",
            "Requirement already satisfied: pyasn1-modules>=0.2.1 in /usr/local/lib/python3.7/dist-packages (from google-auth<3,>=1.6.3->tensorboard<2.9,>=2.8->tensorflow<3.0,>=2.2->keras-flops) (0.2.8)\n",
            "Requirement already satisfied: rsa<5,>=3.1.4 in /usr/local/lib/python3.7/dist-packages (from google-auth<3,>=1.6.3->tensorboard<2.9,>=2.8->tensorflow<3.0,>=2.2->keras-flops) (4.8)\n",
            "Requirement already satisfied: cachetools<5.0,>=2.0.0 in /usr/local/lib/python3.7/dist-packages (from google-auth<3,>=1.6.3->tensorboard<2.9,>=2.8->tensorflow<3.0,>=2.2->keras-flops) (4.2.4)\n",
            "Requirement already satisfied: requests-oauthlib>=0.7.0 in /usr/local/lib/python3.7/dist-packages (from google-auth-oauthlib<0.5,>=0.4.1->tensorboard<2.9,>=2.8->tensorflow<3.0,>=2.2->keras-flops) (1.3.1)\n",
            "Requirement already satisfied: importlib-metadata>=4.4 in /usr/local/lib/python3.7/dist-packages (from markdown>=2.6.8->tensorboard<2.9,>=2.8->tensorflow<3.0,>=2.2->keras-flops) (4.11.3)\n",
            "Requirement already satisfied: zipp>=0.5 in /usr/local/lib/python3.7/dist-packages (from importlib-metadata>=4.4->markdown>=2.6.8->tensorboard<2.9,>=2.8->tensorflow<3.0,>=2.2->keras-flops) (3.7.0)\n",
            "Requirement already satisfied: pyasn1<0.5.0,>=0.4.6 in /usr/local/lib/python3.7/dist-packages (from pyasn1-modules>=0.2.1->google-auth<3,>=1.6.3->tensorboard<2.9,>=2.8->tensorflow<3.0,>=2.2->keras-flops) (0.4.8)\n",
            "Requirement already satisfied: idna<3,>=2.5 in /usr/local/lib/python3.7/dist-packages (from requests<3,>=2.21.0->tensorboard<2.9,>=2.8->tensorflow<3.0,>=2.2->keras-flops) (2.10)\n",
            "Requirement already satisfied: chardet<4,>=3.0.2 in /usr/local/lib/python3.7/dist-packages (from requests<3,>=2.21.0->tensorboard<2.9,>=2.8->tensorflow<3.0,>=2.2->keras-flops) (3.0.4)\n",
            "Requirement already satisfied: certifi>=2017.4.17 in /usr/local/lib/python3.7/dist-packages (from requests<3,>=2.21.0->tensorboard<2.9,>=2.8->tensorflow<3.0,>=2.2->keras-flops) (2021.10.8)\n",
            "Requirement already satisfied: urllib3!=1.25.0,!=1.25.1,<1.26,>=1.21.1 in /usr/local/lib/python3.7/dist-packages (from requests<3,>=2.21.0->tensorboard<2.9,>=2.8->tensorflow<3.0,>=2.2->keras-flops) (1.24.3)\n",
            "Requirement already satisfied: oauthlib>=3.0.0 in /usr/local/lib/python3.7/dist-packages (from requests-oauthlib>=0.7.0->google-auth-oauthlib<0.5,>=0.4.1->tensorboard<2.9,>=2.8->tensorflow<3.0,>=2.2->keras-flops) (3.2.0)\n"
          ]
        }
      ]
    }
  ],
  "metadata": {
    "accelerator": "GPU",
    "colab": {
      "name": "Task1.ipynb",
      "provenance": [],
      "include_colab_link": true
    },
    "kernelspec": {
      "display_name": "Python 3",
      "name": "python3"
    },
    "language_info": {
      "name": "python"
    },
    "widgets": {
      "application/vnd.jupyter.widget-state+json": {
        "72db938a53df4087a606a903462ac046": {
          "model_module": "@jupyter-widgets/controls",
          "model_name": "HBoxModel",
          "model_module_version": "1.5.0",
          "state": {
            "_dom_classes": [],
            "_model_module": "@jupyter-widgets/controls",
            "_model_module_version": "1.5.0",
            "_model_name": "HBoxModel",
            "_view_count": null,
            "_view_module": "@jupyter-widgets/controls",
            "_view_module_version": "1.5.0",
            "_view_name": "HBoxView",
            "box_style": "",
            "children": [
              "IPY_MODEL_a9be90090f094e2e9557760e24353220",
              "IPY_MODEL_f63428583541477e87efb32d586a3f37",
              "IPY_MODEL_37487870a55749b6a54c69bb0d80f5f3"
            ],
            "layout": "IPY_MODEL_af9da7d1526445f8b30e4663a4d0c348"
          }
        },
        "a9be90090f094e2e9557760e24353220": {
          "model_module": "@jupyter-widgets/controls",
          "model_name": "HTMLModel",
          "model_module_version": "1.5.0",
          "state": {
            "_dom_classes": [],
            "_model_module": "@jupyter-widgets/controls",
            "_model_module_version": "1.5.0",
            "_model_name": "HTMLModel",
            "_view_count": null,
            "_view_module": "@jupyter-widgets/controls",
            "_view_module_version": "1.5.0",
            "_view_name": "HTMLView",
            "description": "",
            "description_tooltip": null,
            "layout": "IPY_MODEL_b50a9e49918d4ce69c049e6d0d2c03bd",
            "placeholder": "​",
            "style": "IPY_MODEL_b9e7bd0e8ac34059a60c4e62b227d3de",
            "value": "Dl Completed...: 100%"
          }
        },
        "f63428583541477e87efb32d586a3f37": {
          "model_module": "@jupyter-widgets/controls",
          "model_name": "FloatProgressModel",
          "model_module_version": "1.5.0",
          "state": {
            "_dom_classes": [],
            "_model_module": "@jupyter-widgets/controls",
            "_model_module_version": "1.5.0",
            "_model_name": "FloatProgressModel",
            "_view_count": null,
            "_view_module": "@jupyter-widgets/controls",
            "_view_module_version": "1.5.0",
            "_view_name": "ProgressView",
            "bar_style": "success",
            "description": "",
            "description_tooltip": null,
            "layout": "IPY_MODEL_d7a11f51d6a34771a2efa8b6d73b80f3",
            "max": 4,
            "min": 0,
            "orientation": "horizontal",
            "style": "IPY_MODEL_6a9d603ec1c04c85955c56438fba438e",
            "value": 4
          }
        },
        "37487870a55749b6a54c69bb0d80f5f3": {
          "model_module": "@jupyter-widgets/controls",
          "model_name": "HTMLModel",
          "model_module_version": "1.5.0",
          "state": {
            "_dom_classes": [],
            "_model_module": "@jupyter-widgets/controls",
            "_model_module_version": "1.5.0",
            "_model_name": "HTMLModel",
            "_view_count": null,
            "_view_module": "@jupyter-widgets/controls",
            "_view_module_version": "1.5.0",
            "_view_name": "HTMLView",
            "description": "",
            "description_tooltip": null,
            "layout": "IPY_MODEL_a653e80d3a384a54b47e4344dd3d3f1e",
            "placeholder": "​",
            "style": "IPY_MODEL_e1d612fa2e674ce598a72a571598c7da",
            "value": " 4/4 [00:00&lt;00:00, 13.56 file/s]"
          }
        },
        "af9da7d1526445f8b30e4663a4d0c348": {
          "model_module": "@jupyter-widgets/base",
          "model_name": "LayoutModel",
          "model_module_version": "1.2.0",
          "state": {
            "_model_module": "@jupyter-widgets/base",
            "_model_module_version": "1.2.0",
            "_model_name": "LayoutModel",
            "_view_count": null,
            "_view_module": "@jupyter-widgets/base",
            "_view_module_version": "1.2.0",
            "_view_name": "LayoutView",
            "align_content": null,
            "align_items": null,
            "align_self": null,
            "border": null,
            "bottom": null,
            "display": null,
            "flex": null,
            "flex_flow": null,
            "grid_area": null,
            "grid_auto_columns": null,
            "grid_auto_flow": null,
            "grid_auto_rows": null,
            "grid_column": null,
            "grid_gap": null,
            "grid_row": null,
            "grid_template_areas": null,
            "grid_template_columns": null,
            "grid_template_rows": null,
            "height": null,
            "justify_content": null,
            "justify_items": null,
            "left": null,
            "margin": null,
            "max_height": null,
            "max_width": null,
            "min_height": null,
            "min_width": null,
            "object_fit": null,
            "object_position": null,
            "order": null,
            "overflow": null,
            "overflow_x": null,
            "overflow_y": null,
            "padding": null,
            "right": null,
            "top": null,
            "visibility": null,
            "width": null
          }
        },
        "b50a9e49918d4ce69c049e6d0d2c03bd": {
          "model_module": "@jupyter-widgets/base",
          "model_name": "LayoutModel",
          "model_module_version": "1.2.0",
          "state": {
            "_model_module": "@jupyter-widgets/base",
            "_model_module_version": "1.2.0",
            "_model_name": "LayoutModel",
            "_view_count": null,
            "_view_module": "@jupyter-widgets/base",
            "_view_module_version": "1.2.0",
            "_view_name": "LayoutView",
            "align_content": null,
            "align_items": null,
            "align_self": null,
            "border": null,
            "bottom": null,
            "display": null,
            "flex": null,
            "flex_flow": null,
            "grid_area": null,
            "grid_auto_columns": null,
            "grid_auto_flow": null,
            "grid_auto_rows": null,
            "grid_column": null,
            "grid_gap": null,
            "grid_row": null,
            "grid_template_areas": null,
            "grid_template_columns": null,
            "grid_template_rows": null,
            "height": null,
            "justify_content": null,
            "justify_items": null,
            "left": null,
            "margin": null,
            "max_height": null,
            "max_width": null,
            "min_height": null,
            "min_width": null,
            "object_fit": null,
            "object_position": null,
            "order": null,
            "overflow": null,
            "overflow_x": null,
            "overflow_y": null,
            "padding": null,
            "right": null,
            "top": null,
            "visibility": null,
            "width": null
          }
        },
        "b9e7bd0e8ac34059a60c4e62b227d3de": {
          "model_module": "@jupyter-widgets/controls",
          "model_name": "DescriptionStyleModel",
          "model_module_version": "1.5.0",
          "state": {
            "_model_module": "@jupyter-widgets/controls",
            "_model_module_version": "1.5.0",
            "_model_name": "DescriptionStyleModel",
            "_view_count": null,
            "_view_module": "@jupyter-widgets/base",
            "_view_module_version": "1.2.0",
            "_view_name": "StyleView",
            "description_width": ""
          }
        },
        "d7a11f51d6a34771a2efa8b6d73b80f3": {
          "model_module": "@jupyter-widgets/base",
          "model_name": "LayoutModel",
          "model_module_version": "1.2.0",
          "state": {
            "_model_module": "@jupyter-widgets/base",
            "_model_module_version": "1.2.0",
            "_model_name": "LayoutModel",
            "_view_count": null,
            "_view_module": "@jupyter-widgets/base",
            "_view_module_version": "1.2.0",
            "_view_name": "LayoutView",
            "align_content": null,
            "align_items": null,
            "align_self": null,
            "border": null,
            "bottom": null,
            "display": null,
            "flex": null,
            "flex_flow": null,
            "grid_area": null,
            "grid_auto_columns": null,
            "grid_auto_flow": null,
            "grid_auto_rows": null,
            "grid_column": null,
            "grid_gap": null,
            "grid_row": null,
            "grid_template_areas": null,
            "grid_template_columns": null,
            "grid_template_rows": null,
            "height": null,
            "justify_content": null,
            "justify_items": null,
            "left": null,
            "margin": null,
            "max_height": null,
            "max_width": null,
            "min_height": null,
            "min_width": null,
            "object_fit": null,
            "object_position": null,
            "order": null,
            "overflow": null,
            "overflow_x": null,
            "overflow_y": null,
            "padding": null,
            "right": null,
            "top": null,
            "visibility": null,
            "width": null
          }
        },
        "6a9d603ec1c04c85955c56438fba438e": {
          "model_module": "@jupyter-widgets/controls",
          "model_name": "ProgressStyleModel",
          "model_module_version": "1.5.0",
          "state": {
            "_model_module": "@jupyter-widgets/controls",
            "_model_module_version": "1.5.0",
            "_model_name": "ProgressStyleModel",
            "_view_count": null,
            "_view_module": "@jupyter-widgets/base",
            "_view_module_version": "1.2.0",
            "_view_name": "StyleView",
            "bar_color": null,
            "description_width": ""
          }
        },
        "a653e80d3a384a54b47e4344dd3d3f1e": {
          "model_module": "@jupyter-widgets/base",
          "model_name": "LayoutModel",
          "model_module_version": "1.2.0",
          "state": {
            "_model_module": "@jupyter-widgets/base",
            "_model_module_version": "1.2.0",
            "_model_name": "LayoutModel",
            "_view_count": null,
            "_view_module": "@jupyter-widgets/base",
            "_view_module_version": "1.2.0",
            "_view_name": "LayoutView",
            "align_content": null,
            "align_items": null,
            "align_self": null,
            "border": null,
            "bottom": null,
            "display": null,
            "flex": null,
            "flex_flow": null,
            "grid_area": null,
            "grid_auto_columns": null,
            "grid_auto_flow": null,
            "grid_auto_rows": null,
            "grid_column": null,
            "grid_gap": null,
            "grid_row": null,
            "grid_template_areas": null,
            "grid_template_columns": null,
            "grid_template_rows": null,
            "height": null,
            "justify_content": null,
            "justify_items": null,
            "left": null,
            "margin": null,
            "max_height": null,
            "max_width": null,
            "min_height": null,
            "min_width": null,
            "object_fit": null,
            "object_position": null,
            "order": null,
            "overflow": null,
            "overflow_x": null,
            "overflow_y": null,
            "padding": null,
            "right": null,
            "top": null,
            "visibility": null,
            "width": null
          }
        },
        "e1d612fa2e674ce598a72a571598c7da": {
          "model_module": "@jupyter-widgets/controls",
          "model_name": "DescriptionStyleModel",
          "model_module_version": "1.5.0",
          "state": {
            "_model_module": "@jupyter-widgets/controls",
            "_model_module_version": "1.5.0",
            "_model_name": "DescriptionStyleModel",
            "_view_count": null,
            "_view_module": "@jupyter-widgets/base",
            "_view_module_version": "1.2.0",
            "_view_name": "StyleView",
            "description_width": ""
          }
        }
      }
    }
  },
  "nbformat": 4,
  "nbformat_minor": 0
}